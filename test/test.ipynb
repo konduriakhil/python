{
 "cells": [
  {
   "cell_type": "markdown",
   "metadata": {},
   "source": [
    "# Practice(Modules)"
   ]
  },
  {
   "cell_type": "code",
   "execution_count": 111,
   "metadata": {},
   "outputs": [
    {
     "name": "stdout",
     "output_type": "stream",
     "text": [
      "676\n"
     ]
    }
   ],
   "source": [
    "numbers = [ 3, 8, 90, 676]\n",
    "from examp import finding_max_no\n",
    "print(finding_max_no(numbers))"
   ]
  },
  {
   "cell_type": "code",
   "execution_count": 112,
   "metadata": {},
   "outputs": [
    {
     "name": "stdout",
     "output_type": "stream",
     "text": [
      "280\n",
      "61\n"
     ]
    }
   ],
   "source": [
    "from examp import Calculations\n",
    "num1 = 5\n",
    "num2 = 56\n",
    "x = Calculations(num1, num2)\n",
    "\n",
    "print(x.multiplication())\n",
    "print(x.additon())\n"
   ]
  },
  {
   "cell_type": "markdown",
   "metadata": {},
   "source": [
    "## Addition"
   ]
  },
  {
   "cell_type": "code",
   "execution_count": 113,
   "metadata": {},
   "outputs": [
    {
     "data": {
      "text/plain": [
       "56"
      ]
     },
     "execution_count": 113,
     "metadata": {},
     "output_type": "execute_result"
    }
   ],
   "source": [
    "import examp\n",
    "examp.addition()"
   ]
  },
  {
   "cell_type": "code",
   "execution_count": 6,
   "metadata": {},
   "outputs": [
    {
     "name": "stdout",
     "output_type": "stream",
     "text": [
      "(5, 6)\n"
     ]
    }
   ],
   "source": [
    "import random\n",
    "for i in range(1):\n",
    "    print(f'({random.randint(1,6)}, {random.randint(1,6)})')"
   ]
  },
  {
   "cell_type": "code",
   "execution_count": 115,
   "metadata": {},
   "outputs": [
    {
     "name": "stdout",
     "output_type": "stream",
     "text": [
      "3.12.6 (tags/v3.12.6:a4a2d2b, Sep  6 2024, 20:11:23) [MSC v.1940 64 bit (AMD64)]\n"
     ]
    }
   ],
   "source": [
    "import sys\n",
    "print(sys.version)"
   ]
  },
  {
   "cell_type": "code",
   "execution_count": 116,
   "metadata": {},
   "outputs": [
    {
     "name": "stdout",
     "output_type": "stream",
     "text": [
      "awesome\n",
      "Beautifull\n"
     ]
    }
   ],
   "source": [
    "x = 'awesome'\n",
    "def python():\n",
    "    x = 'Beautifull'\n",
    "    print(x)\n",
    "\n",
    "\n",
    "print(x)\n",
    "python()"
   ]
  },
  {
   "cell_type": "code",
   "execution_count": 117,
   "metadata": {},
   "outputs": [
    {
     "name": "stdout",
     "output_type": "stream",
     "text": [
      "<class 'str'>\n"
     ]
    }
   ],
   "source": [
    "x = 'akhil'\n",
    "print(type(x))"
   ]
  },
  {
   "cell_type": "code",
   "execution_count": 118,
   "metadata": {},
   "outputs": [
    {
     "name": "stdout",
     "output_type": "stream",
     "text": [
      "0\n",
      "1\n",
      "2\n",
      "3\n",
      "4\n",
      "5\n"
     ]
    }
   ],
   "source": [
    "for i in range(6):\n",
    "    print(i)"
   ]
  },
  {
   "cell_type": "code",
   "execution_count": 119,
   "metadata": {},
   "outputs": [
    {
     "name": "stdout",
     "output_type": "stream",
     "text": [
      "{1, 3, 5, 6, 'akhil'}\n"
     ]
    }
   ],
   "source": [
    "set1 = {1, 3, 6, 1, 5, 6, 'akhil'}\n",
    "print(set1)"
   ]
  },
  {
   "cell_type": "code",
   "execution_count": 120,
   "metadata": {},
   "outputs": [
    {
     "name": "stdout",
     "output_type": "stream",
     "text": [
      "{1, 5, 6, 'akhil'}\n"
     ]
    }
   ],
   "source": [
    "my_set = {1, 3, 6, 1, 5, 6, 'akhil'}\n",
    "my_set.remove(3)\n",
    "print(my_set)"
   ]
  },
  {
   "cell_type": "code",
   "execution_count": 121,
   "metadata": {},
   "outputs": [
    {
     "name": "stdout",
     "output_type": "stream",
     "text": [
      "{1, 3, 5, 6, 'sandhya', 'akhil'}\n",
      "{3, 5, 6, 'sandhya', 'akhil'}\n"
     ]
    }
   ],
   "source": [
    "my_set = {'sandhya', 1, 3, 6, 1, 5, 6, 'akhil'}\n",
    "my_set.discard(9)\n",
    "print(my_set)\n",
    "my_set.pop()\n",
    "print(my_set)"
   ]
  },
  {
   "cell_type": "markdown",
   "metadata": {},
   "source": [
    "## Frozenset"
   ]
  },
  {
   "cell_type": "code",
   "execution_count": 122,
   "metadata": {},
   "outputs": [
    {
     "name": "stdout",
     "output_type": "stream",
     "text": [
      "frozenset({1, 2, 3, 4, 5, 6})\n",
      "frozenset({3})\n",
      "frozenset({1, 2})\n",
      "frozenset({1, 2, 4, 5, 6})\n"
     ]
    }
   ],
   "source": [
    "fs1 = frozenset([1, 2, 3])\n",
    "fs2 = frozenset([3, 4, 5, 6])\n",
    "\n",
    "print(fs1 | fs2)\n",
    "\n",
    "print(fs1 & fs2)\n",
    "\n",
    "print(fs1 - fs2)\n",
    "\n",
    "print(fs1 ^ fs2)"
   ]
  },
  {
   "cell_type": "code",
   "execution_count": 123,
   "metadata": {},
   "outputs": [
    {
     "name": "stdout",
     "output_type": "stream",
     "text": [
      "(2+0j)\n"
     ]
    }
   ],
   "source": [
    "x = complex(2)\n",
    "print(x)\n"
   ]
  },
  {
   "cell_type": "code",
   "execution_count": 124,
   "metadata": {},
   "outputs": [
    {
     "name": "stdout",
     "output_type": "stream",
     "text": [
      "4\n"
     ]
    }
   ],
   "source": [
    "import random\n",
    "print(random.randrange(1,9))"
   ]
  },
  {
   "cell_type": "code",
   "execution_count": 125,
   "metadata": {},
   "outputs": [
    {
     "name": "stdout",
     "output_type": "stream",
     "text": [
      "6\n"
     ]
    }
   ],
   "source": [
    "import random\n",
    "print(random.randint(1,9))"
   ]
  },
  {
   "cell_type": "code",
   "execution_count": 126,
   "metadata": {},
   "outputs": [
    {
     "name": "stdout",
     "output_type": "stream",
     "text": [
      "H\n",
      "e\n",
      "l\n",
      "l\n",
      "o\n",
      ",\n",
      " \n",
      "W\n",
      "o\n",
      "r\n",
      "l\n",
      "d\n"
     ]
    }
   ],
   "source": [
    "a = 'Hello, World'\n",
    "for x in a:\n",
    "\n",
    "    print(x)"
   ]
  },
  {
   "cell_type": "code",
   "execution_count": 127,
   "metadata": {},
   "outputs": [
    {
     "name": "stdout",
     "output_type": "stream",
     "text": [
      "True\n",
      "Akhil is present\n",
      "True\n"
     ]
    }
   ],
   "source": [
    "a = 'Hello World, My name is Konduri Akhil'\n",
    "print('Akhil' in a)\n",
    "if 'Akhil' in a:\n",
    "    print('Akhil is present')\n",
    "\n",
    "\n",
    "print('Sai' not in a)\n"
   ]
  },
  {
   "cell_type": "markdown",
   "metadata": {},
   "source": [
    "## Slicing"
   ]
  },
  {
   "cell_type": "code",
   "execution_count": 128,
   "metadata": {},
   "outputs": [
    {
     "name": "stdout",
     "output_type": "stream",
     "text": [
      "llo\n",
      "Hello\n",
      "World, My name is Konduri Akhil\n",
      "Akh\n"
     ]
    }
   ],
   "source": [
    "a = 'Hello World, My name is Konduri Akhil'\n",
    "\n",
    "print(a[2:5])\n",
    "print(a[:5])\n",
    "print(a[6:])\n",
    "print(a[-5:-2])"
   ]
  },
  {
   "cell_type": "code",
   "execution_count": 7,
   "metadata": {},
   "outputs": [
    {
     "name": "stdout",
     "output_type": "stream",
     "text": [
      "The price is 59 dollars\n"
     ]
    }
   ],
   "source": [
    "price = 59\n",
    "txt = f\"The price is {price} dollars\"\n",
    "print(txt)"
   ]
  },
  {
   "cell_type": "code",
   "execution_count": 9,
   "metadata": {},
   "outputs": [
    {
     "name": "stdout",
     "output_type": "stream",
     "text": [
      "We are the so-called \"Vikings\" from the north.\n"
     ]
    }
   ],
   "source": [
    "txt = \"We are the so-called \\\"Vikings\\\" from the north.\"\n",
    "print(txt)"
   ]
  },
  {
   "cell_type": "code",
   "execution_count": 14,
   "metadata": {},
   "outputs": [
    {
     "name": "stdout",
     "output_type": "stream",
     "text": [
      "        We are the so-called Vikings from the north.        \n"
     ]
    }
   ],
   "source": [
    "txt = \"We are the so-called Vikings from the north.\"\n",
    "print(txt.center(60))\n"
   ]
  },
  {
   "cell_type": "code",
   "execution_count": 28,
   "metadata": {},
   "outputs": [
    {
     "name": "stdout",
     "output_type": "stream",
     "text": [
      "We are the so-called Vikings from the north.\n"
     ]
    }
   ],
   "source": [
    "txt = \"We are the so-called Vikings from the north.\"\n",
    "print(txt.strip('from'))"
   ]
  },
  {
   "cell_type": "code",
   "execution_count": 2,
   "metadata": {},
   "outputs": [
    {
     "name": "stdout",
     "output_type": "stream",
     "text": [
      "False\n"
     ]
    }
   ],
   "source": [
    "print(10 ==  6)"
   ]
  },
  {
   "cell_type": "code",
   "execution_count": 9,
   "metadata": {},
   "outputs": [
    {
     "name": "stdout",
     "output_type": "stream",
     "text": [
      "True\n",
      "True\n"
     ]
    }
   ],
   "source": [
    "print(bool(4))\n",
    "print(bool(True))"
   ]
  },
  {
   "cell_type": "code",
   "execution_count": 10,
   "metadata": {},
   "outputs": [
    {
     "name": "stdout",
     "output_type": "stream",
     "text": [
      "False\n"
     ]
    }
   ],
   "source": [
    "class myclass():\n",
    "  def __len__(self):\n",
    "    return 0\n",
    "\n",
    "myobj = myclass()\n",
    "print(bool(myobj))"
   ]
  },
  {
   "cell_type": "code",
   "execution_count": 12,
   "metadata": {},
   "outputs": [
    {
     "name": "stdout",
     "output_type": "stream",
     "text": [
      "True\n",
      "True\n"
     ]
    }
   ],
   "source": [
    "def myFunction():\n",
    "    return True\n",
    "\n",
    "\n",
    "print(myFunction())\n",
    "x = 200\n",
    "print(isinstance(x, int))"
   ]
  },
  {
   "cell_type": "markdown",
   "metadata": {},
   "source": [
    "## Operators"
   ]
  },
  {
   "cell_type": "code",
   "execution_count": 17,
   "metadata": {},
   "outputs": [
    {
     "name": "stdout",
     "output_type": "stream",
     "text": [
      "2.0\n",
      "2.5\n",
      "2\n",
      "-3\n"
     ]
    }
   ],
   "source": [
    "print(4 / 2)\n",
    "print(5 / 2)\n",
    "print( 4 // 2)\n",
    "print( -5 // 2 )"
   ]
  },
  {
   "cell_type": "markdown",
   "metadata": {},
   "source": [
    "## 2.reverse a given number(I/p:--4325. O/p:--5234)"
   ]
  },
  {
   "cell_type": "code",
   "execution_count": 3,
   "metadata": {},
   "outputs": [
    {
     "name": "stdout",
     "output_type": "stream",
     "text": [
      "   February 1975\n",
      "Mo Tu We Th Fr Sa Su\n",
      "                1  2\n",
      " 3  4  5  6  7  8  9\n",
      "10 11 12 13 14 15 16\n",
      "17 18 19 20 21 22 23\n",
      "24 25 26 27 28\n",
      "\n"
     ]
    }
   ],
   "source": [
    "import calendar\n",
    "year = int(input('Enter Year: '))\n",
    "month = int(input('Enter month: '))\n",
    "print(calendar.month(year, month))"
   ]
  },
  {
   "cell_type": "markdown",
   "metadata": {},
   "source": [
    "# Factorial of an number"
   ]
  },
  {
   "cell_type": "code",
   "execution_count": null,
   "metadata": {},
   "outputs": [],
   "source": [
    "number = int(input('Enter number: '))\n",
    "# result = 1\n",
    "# i = 1\n",
    "def factorial(number):\n",
    "    i = 1\n",
    "    resulti = 1\n",
    "    while i <= number:\n",
    "        resulti = resulti * i\n",
    "        i = i + 1 \n",
    "    return resulti\n",
    "\n",
    "print(factorial(number))"
   ]
  },
  {
   "cell_type": "markdown",
   "metadata": {},
   "source": [
    "## Writing to csv file"
   ]
  },
  {
   "cell_type": "code",
   "execution_count": 8,
   "metadata": {},
   "outputs": [
    {
     "name": "stdout",
     "output_type": "stream",
     "text": [
      "['item', 'price', 'rating']\n",
      "['1', '1', '1']\n"
     ]
    }
   ],
   "source": [
    "import csv\n",
    "\n",
    "with open('data.csv', 'w', newline='') as f:\n",
    "    w = csv.writer(f)\n",
    "    w.writerow(['item', 'price', 'rating'])\n",
    "    n = int(input('Enter no of items: '))\n",
    "    for n in range(n):\n",
    "        item = input('Enter item Name:')\n",
    "        price = input('Enter Price of the Item: ')\n",
    "        rating = input('Enter the rating for the item: ')\n",
    "        w.writerow([item, price, rating])\n",
    "\n",
    "with open('data.csv', 'r') as f:\n",
    "    data = csv.reader(f)\n",
    "    for d in data:\n",
    "        print(d)"
   ]
  },
  {
   "cell_type": "markdown",
   "metadata": {},
   "source": [
    "## list directories"
   ]
  },
  {
   "cell_type": "code",
   "execution_count": 1,
   "metadata": {},
   "outputs": [
    {
     "name": "stdout",
     "output_type": "stream",
     "text": [
      "['car_game.ipynb', 'data.csv', 'examp.py', 'test.ipynb', '__pycache__']\n"
     ]
    }
   ],
   "source": [
    "from os import *\n",
    "\n",
    "l = listdir('.')\n",
    "print(l)"
   ]
  },
  {
   "cell_type": "markdown",
   "metadata": {},
   "source": [
    "## To list all the files and sub-directories in present directory and subdirectories"
   ]
  },
  {
   "cell_type": "code",
   "execution_count": 2,
   "metadata": {},
   "outputs": [
    {
     "name": "stdout",
     "output_type": "stream",
     "text": [
      ". ['__pycache__'] ['car_game.ipynb', 'data.csv', 'examp.py', 'test.ipynb']\n",
      ".\\__pycache__ [] ['examp.cpython-312.pyc']\n"
     ]
    }
   ],
   "source": [
    "from os import *\n",
    " \n",
    "for path_of_current_dir, Directories, files in walk('.'):\n",
    "    print(path_of_current_dir, Directories, files)"
   ]
  },
  {
   "cell_type": "code",
   "execution_count": null,
   "metadata": {},
   "outputs": [
    {
     "name": "stdout",
     "output_type": "stream",
     "text": [
      "16\n"
     ]
    }
   ],
   "source": [
    "import re\n",
    "from collections import defaultdict\n",
    "\n",
    "def count_words(file_path):\n",
    "    word_count = defaultdict(int)\n",
    "\n",
    "    try:\n",
    "        with open(file_path, 'r', encoding='utf-8') as file:\n",
    "            text = file.read().lower()\n",
    "            words = re.findall(r'\\b\\w+\\b', text)  # Extract words only\n",
    "            for word in words:\n",
    "                word_count[word] += 1\n",
    "    except FileNotFoundError:\n",
    "        print(f\"File not found: {file_path}\")\n",
    "    except Exception as e:\n",
    "        print(f\"An error occurred: {e}\")\n",
    "\n",
    "    return dict(word_count)\n",
    "\n",
    "# Example validation test\n",
    "def validate_word_count():\n",
    "    test_file = \"test.txt\"\n",
    "    \n",
    "    # Create test file\n",
    "    with open(test_file, \"w\", encoding=\"utf-8\") as f:\n",
    "        f.write(\"Hello world! Hello, again. World of code.\")\n",
    "\n",
    "    expected = {\n",
    "        \"hello\": 2,\n",
    "        \"world\": 2,\n",
    "        \"again\": 1,\n",
    "        \"of\": 1,\n",
    "        \"code\": 1\n",
    "    }\n",
    "\n",
    "    result = count_words(test_file)\n",
    "    \n",
    "    assert result == expected, f\"Test failed! Expected {expected}, got {result}\"\n",
    "    print(\"Test passed!\")\n",
    "\n",
    "if __name__ == \"__main__\":\n",
    "    # Run validation\n",
    "    validate_word_count()\n",
    "\n",
    "    # You can uncomment this part to count any file you want\n",
    "    # file_path = input(\"Enter file path: \")\n",
    "    # print(count_words(file_path))\n"
   ]
  },
  {
   "cell_type": "code",
   "execution_count": 5,
   "metadata": {},
   "outputs": [
    {
     "name": "stdout",
     "output_type": "stream",
     "text": [
      "Filtering complete. 3 lines written to 'error_only.log'.\n"
     ]
    }
   ],
   "source": [
    "def filter_errors(input_file, output_file, keyword=\"ERROR\"):\n",
    "    # Read the log file and filter lines\n",
    "    with open(input_file, 'r') as infile:\n",
    "        filtered_lines = [line for line in infile if keyword in line]\n",
    "\n",
    "    # Write the filtered lines to a new file\n",
    "    with open(output_file, 'w') as outfile:\n",
    "        outfile.writelines(filtered_lines)\n",
    "\n",
    "    # Validation\n",
    "    with open(output_file, 'r') as checkfile:\n",
    "        output_lines = checkfile.readlines()\n",
    "        for line in output_lines:\n",
    "            if keyword not in line:\n",
    "                raise ValueError(f\"Validation failed: Found line without '{keyword}': {line}\")\n",
    "    \n",
    "    print(f\"Filtering complete. {len(filtered_lines)} lines written to '{output_file}'.\")\n",
    "\n",
    "\n",
    "# Example usage\n",
    "if __name__ == \"__main__\":\n",
    "    input_log = \"application.log\"     # replace with your input file\n",
    "    output_log = \"error_only.log\"     # output file for filtered lines\n",
    "    filter_errors(input_log, output_log)\n"
   ]
  },
  {
   "cell_type": "markdown",
   "metadata": {},
   "source": []
  },
  {
   "cell_type": "code",
   "execution_count": null,
   "metadata": {},
   "outputs": [],
   "source": [
    "a = 1\n",
    "b = 2\n",
    "sum = 2  # because b is even\n",
    "\n",
    "while a + b < 100:\n",
    "    c = a + b\n",
    "    if c % 2 == 0:\n",
    "        sum = sum + c\n",
    "    a = b\n",
    "    b = c\n",
    "\n",
    "print(sum)\n"
   ]
  },
  {
   "cell_type": "code",
   "execution_count": null,
   "metadata": {},
   "outputs": [],
   "source": []
  },
  {
   "cell_type": "code",
   "execution_count": null,
   "metadata": {},
   "outputs": [],
   "source": []
  }
 ],
 "metadata": {
  "kernelspec": {
   "display_name": "Python 3",
   "language": "python",
   "name": "python3"
  },
  "language_info": {
   "codemirror_mode": {
    "name": "ipython",
    "version": 3
   },
   "file_extension": ".py",
   "mimetype": "text/x-python",
   "name": "python",
   "nbconvert_exporter": "python",
   "pygments_lexer": "ipython3",
   "version": "3.12.6"
  }
 },
 "nbformat": 4,
 "nbformat_minor": 2
}
