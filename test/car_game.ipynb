{
 "cells": [
  {
   "cell_type": "markdown",
   "metadata": {},
   "source": [
    "### Greetings "
   ]
  },
  {
   "cell_type": "code",
   "execution_count": null,
   "metadata": {},
   "outputs": [
    {
     "name": "stdout",
     "output_type": "stream",
     "text": [
      "Car is started...Ready to go...🏎️\n"
     ]
    }
   ],
   "source": [
    "command = ''\n",
    "started = False\n",
    "stopped = False\n",
    "while True:\n",
    "    command = input('Enter your input: ')\n",
    "    if command == 'start':\n",
    "        if started:\n",
    "            print('Car is already started')\n",
    "            stopped = False\n",
    "        else:\n",
    "            print('Car is started...Ready to go...🏎️')\n",
    "            started = True\n",
    "            stopped = False\n",
    "    elif command == 'stop':\n",
    "        if stopped and started:\n",
    "            print('Car is already stopped')\n",
    "            started = False\n",
    "        elif started and not stopped:\n",
    "            print('Car is stopped')\n",
    "            stopped = True\n",
    "        else:\n",
    "            print('Car is not started')\n",
    "    elif command == 'quit':\n",
    "        print('You quitted the game')\n",
    "        break\n",
    "    elif command == 'help':\n",
    "        print('''\n",
    "start - to start the car\n",
    "stop - to stop the car                \n",
    "quit - to quit from game              \n",
    "''')\n",
    "    else:\n",
    "        print(\"You entered wrong command, enter 'help' for the help\")\n",
    "print('Thank You for your time')"
   ]
  }
 ],
 "metadata": {
  "kernelspec": {
   "display_name": "Python 3",
   "language": "python",
   "name": "python3"
  },
  "language_info": {
   "codemirror_mode": {
    "name": "ipython",
    "version": 3
   },
   "file_extension": ".py",
   "mimetype": "text/x-python",
   "name": "python",
   "nbconvert_exporter": "python",
   "pygments_lexer": "ipython3",
   "version": "3.12.6"
  }
 },
 "nbformat": 4,
 "nbformat_minor": 2
}
