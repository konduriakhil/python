{
 "cells": [
  {
   "cell_type": "markdown",
   "metadata": {},
   "source": [
    "# Whether a year is leap year or not "
   ]
  },
  {
   "cell_type": "code",
   "execution_count": 6,
   "metadata": {},
   "outputs": [
    {
     "name": "stdout",
     "output_type": "stream",
     "text": [
      "It is not a leap year\n"
     ]
    }
   ],
   "source": [
    "year = int(input('Enter year: '))\n",
    "if year % 4 == 0:\n",
    "    if year % 100 == 0:\n",
    "        if year % 400 == 0:\n",
    "            print('It is a leap year')\n",
    "        else:\n",
    "            print('It is not a leap year')\n",
    "    else:\n",
    "        print('It is a leap year')\n",
    "else:\n",
    "    print('It is not a Leap Year')"
   ]
  },
  {
   "cell_type": "markdown",
   "metadata": {},
   "source": [
    "## Write a program that takes an integer input from the user and checks whether the number is odd or even."
   ]
  },
  {
   "cell_type": "code",
   "execution_count": 1,
   "metadata": {},
   "outputs": [
    {
     "name": "stdout",
     "output_type": "stream",
     "text": [
      "The number is even\n"
     ]
    }
   ],
   "source": [
    "number = int(input('Enter the number: '))\n",
    "if number % 2 == 0:\n",
    "    print('The number is even')\n",
    "else:\n",
    "    print('The number is odd')"
   ]
  },
  {
   "cell_type": "markdown",
   "metadata": {},
   "source": [
    "# Write a program that takes a student's marks as input and assigns a grade based on the following criteria:"
   ]
  },
  {
   "cell_type": "code",
   "execution_count": 10,
   "metadata": {},
   "outputs": [
    {
     "name": "stdout",
     "output_type": "stream",
     "text": [
      "Enter marks out of 100\n"
     ]
    }
   ],
   "source": [
    "marks = int(input('Enter marks out of 100: '))\n",
    "if marks < 35:\n",
    "    print('Fail')\n",
    "elif marks >= 35 and marks < 50:\n",
    "    print('C-Grade')\n",
    "elif marks >= 50 and marks < 75:\n",
    "    print('B-Grade')\n",
    "elif marks > 100:\n",
    "    print('Enter marks out of 100')\n",
    "else: \n",
    "    print('A-Grade')"
   ]
  },
  {
   "cell_type": "markdown",
   "metadata": {},
   "source": [
    "# Write a program that takes two numbers and an arithmetic operator (+, -, *, /) as input and performs the corresponding operation. Handle division by zero using an if-else statement."
   ]
  },
  {
   "cell_type": "code",
   "execution_count": 12,
   "metadata": {},
   "outputs": [
    {
     "name": "stdout",
     "output_type": "stream",
     "text": [
      "0.875\n"
     ]
    }
   ],
   "source": [
    "num1 = int(input('Enter number1: '))\n",
    "num2 = int(input('Enter number2: '))\n",
    "options = input('''\n",
    "Enter your options:\n",
    "    - addition \n",
    "    - multiplication\n",
    "    - substraction                                                    \n",
    "    - division                    \n",
    "''')\n",
    "if options == 'addition':\n",
    "    print(num1 + num2)\n",
    "elif options == 'substraction':\n",
    "    print(num1 - num2)\n",
    "elif options == 'multiplication':\n",
    "    print(num1 * num2)\n",
    "elif options == 'division':\n",
    "    if num2 == 0:\n",
    "        print('division by zero is not allowed')\n",
    "    else:\n",
    "        print(num1 / num2)\n",
    "else:\n",
    "    print('Enter correct option')"
   ]
  },
  {
   "cell_type": "markdown",
   "metadata": {},
   "source": [
    "# Write a program that classifies a person into different age groups based on their age:\n",
    " \n",
    "\tAge < 18: \"Child\"\n",
    "\t18 <= Age < 60: \"Adult\"\n",
    "\tAge >= 60: \"Senior Citizen\""
   ]
  },
  {
   "cell_type": "code",
   "execution_count": 17,
   "metadata": {},
   "outputs": [
    {
     "name": "stdout",
     "output_type": "stream",
     "text": [
      "Child\n"
     ]
    }
   ],
   "source": [
    "age = int(input('Enter age: '))\n",
    "if age < 18:\n",
    "    print('Child')\n",
    "elif age >= 18 and age < 60:\n",
    "    print('Adult')\n",
    "elif age >= 60:\n",
    "    print('Senior Citizen')\n"
   ]
  },
  {
   "cell_type": "markdown",
   "metadata": {},
   "source": [
    "# looping"
   ]
  },
  {
   "cell_type": "markdown",
   "metadata": {},
   "source": [
    "# Write a program to find Sum of N Natural Numbers"
   ]
  },
  {
   "cell_type": "code",
   "execution_count": 31,
   "metadata": {},
   "outputs": [
    {
     "name": "stdout",
     "output_type": "stream",
     "text": [
      "The sum of 89 natural numbers is 4005\n"
     ]
    }
   ],
   "source": [
    "number = int(input('Enter number: '))\n",
    "i = 1\n",
    "sum = 0\n",
    "while i <= number:\n",
    "    sum = sum + i \n",
    "    i = i + 1\n",
    "print(f'The sum of {number} natural numbers is {sum}')"
   ]
  },
  {
   "cell_type": "markdown",
   "metadata": {},
   "source": [
    "# Write a program which calculates the factorial of a given number\n",
    "n!=n×(n−1)×(n−2)×…×2×1"
   ]
  },
  {
   "cell_type": "code",
   "execution_count": 38,
   "metadata": {},
   "outputs": [
    {
     "name": "stdout",
     "output_type": "stream",
     "text": [
      "The factorial of 6 is 720\n"
     ]
    }
   ],
   "source": [
    "number = int(input('Enter Number: '))\n",
    "factorial = 1\n",
    "i = 1\n",
    "while i <= number:\n",
    "    factorial = i * factorial\n",
    "    i = i + 1\n",
    "print(f'The factorial of {number} is {factorial}')"
   ]
  },
  {
   "cell_type": "markdown",
   "metadata": {},
   "source": [
    "# Write a program generates a triangle number pattern based on the number of rows input by the user"
   ]
  },
  {
   "cell_type": "code",
   "execution_count": 37,
   "metadata": {},
   "outputs": [
    {
     "name": "stdout",
     "output_type": "stream",
     "text": [
      "*\n",
      "**\n",
      "***\n",
      "****\n",
      "*****\n",
      "******\n"
     ]
    }
   ],
   "source": [
    "number = int(input('Enter number: '))\n",
    "i = 1\n",
    "while i <= number:\n",
    "    result = 0\n",
    "    result = result + i\n",
    "    print(result * '*')\n",
    "    i += 1"
   ]
  }
 ],
 "metadata": {
  "kernelspec": {
   "display_name": "Python 3",
   "language": "python",
   "name": "python3"
  },
  "language_info": {
   "codemirror_mode": {
    "name": "ipython",
    "version": 3
   },
   "file_extension": ".py",
   "mimetype": "text/x-python",
   "name": "python",
   "nbconvert_exporter": "python",
   "pygments_lexer": "ipython3",
   "version": "3.12.6"
  }
 },
 "nbformat": 4,
 "nbformat_minor": 2
}
