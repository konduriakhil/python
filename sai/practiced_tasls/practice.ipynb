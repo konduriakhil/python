{
 "cells": [
  {
   "cell_type": "markdown",
   "metadata": {},
   "source": [
    "# task-1 \n",
    "* Write a script that reads a text file and counts the occurrence of each word.\n",
    "* Validation: Verify that the output dictionary correctly represents word counts for\n",
    "given test files."
   ]
  },
  {
   "cell_type": "code",
   "execution_count": 18,
   "metadata": {},
   "outputs": [
    {
     "name": "stdout",
     "output_type": "stream",
     "text": [
      "result is validated, checked and tests are passed\n"
     ]
    }
   ],
   "source": [
    "import re\n",
    "from collections import defaultdict\n",
    "\n",
    "def word_count(file_path):\n",
    "    word_count = defaultdict(int)\n",
    "    try:\n",
    "        with open(file_path, 'r', encoding='utf-8') as f:\n",
    "            text = f.read().lower()\n",
    "            words = re.findall(r'\\b\\w+\\b', text)\n",
    "            for word in words:\n",
    "                word_count[word] += 1\n",
    "    except FileNotFoundError:\n",
    "        print(f'File {file_path} not found')\n",
    "\n",
    "    return dict(word_count)\n",
    "\n",
    "\n",
    "def word_count_validation():\n",
    "    filepath = input('Enter file path: ')\n",
    "\n",
    "    # with open(filepath , 'w+', encoding='utf-8') as f:\n",
    "    #     f.write('hi,  hello, how are you?')\n",
    "    \n",
    "    expected = {\n",
    "        'hi': 1,\n",
    "        'hello': 1,\n",
    "        'how': 1,\n",
    "        'are': 1,\n",
    "        'you': 1\n",
    "    }\n",
    "\n",
    "    result = word_count(filepath)\n",
    "    \n",
    "    if result == expected:\n",
    "        return 'result is validated, checked and tests are passed'\n",
    "    else:\n",
    "        return 'Tests are not passed'\n",
    "\n",
    "\n",
    "\n",
    "wc = word_count_validation()    \n",
    "print(wc)   "
   ]
  }
 ],
 "metadata": {
  "kernelspec": {
   "display_name": "Python 3",
   "language": "python",
   "name": "python3"
  },
  "language_info": {
   "codemirror_mode": {
    "name": "ipython",
    "version": 3
   },
   "file_extension": ".py",
   "mimetype": "text/x-python",
   "name": "python",
   "nbconvert_exporter": "python",
   "pygments_lexer": "ipython3",
   "version": "3.12.6"
  }
 },
 "nbformat": 4,
 "nbformat_minor": 2
}
