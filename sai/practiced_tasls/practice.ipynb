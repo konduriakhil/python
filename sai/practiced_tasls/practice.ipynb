{
 "cells": [
  {
   "cell_type": "markdown",
   "metadata": {},
   "source": [
    "# task-1 \n",
    "* Write a script that reads a text file and counts the occurrence of each word.\n",
    "* Validation: Verify that the output dictionary correctly represents word counts for\n",
    "given test files."
   ]
  },
  {
   "cell_type": "code",
   "execution_count": 1,
   "metadata": {},
   "outputs": [
    {
     "name": "stdout",
     "output_type": "stream",
     "text": [
      "Tests are not passed\n"
     ]
    }
   ],
   "source": [
    "import re\n",
    "from collections import defaultdict\n",
    "\n",
    "def word_count(file_path):\n",
    "    word_count = defaultdict(int)\n",
    "    try:\n",
    "        with open(file_path, 'r', encoding='utf-8') as f:\n",
    "            text = f.read().lower()\n",
    "            words = re.findall(r'\\b\\w+\\b', text)\n",
    "            for word in words:\n",
    "                word_count[word] += 1\n",
    "    except FileNotFoundError:\n",
    "        print(f'File {file_path} not found')\n",
    "\n",
    "    return dict(word_count)\n",
    "\n",
    "\n",
    "def word_count_validation():\n",
    "    filepath = input('Enter file path: ')\n",
    "\n",
    "    # with open(filepath , 'w+', encoding='utf-8') as f:\n",
    "    #     f.write('hi,  hello, how are you?')\n",
    "    \n",
    "    expected = {\n",
    "        'hi': 2,\n",
    "        'hello': 1,\n",
    "        'how': 1,\n",
    "        'are': 1,\n",
    "        'you': 1\n",
    "    }\n",
    "\n",
    "    result = word_count(filepath)\n",
    "    \n",
    "    if result == expected:\n",
    "        return 'result is validated, checked and tests are passed'\n",
    "    else:\n",
    "        return 'Tests are not passed'\n",
    "\n",
    "\n",
    "\n",
    "wc = word_count_validation()    \n",
    "print(wc)   "
   ]
  },
  {
   "cell_type": "markdown",
   "metadata": {},
   "source": [
    "# task-2\n",
    "* Create a script that reads a log file, filters specific lines (e.g., containing \"ERROR\"),\n",
    "and writes the filtered content to a new file.\n",
    "* Validation: Check that the output file contains only the lines that meet the filter\n",
    "criteria."
   ]
  },
  {
   "cell_type": "code",
   "execution_count": 3,
   "metadata": {},
   "outputs": [
    {
     "name": "stdout",
     "output_type": "stream",
     "text": [
      "Filtered lines containing 'ERROR' written to error_only.log\n",
      "Validation passed: All lines contain the keyword.\n"
     ]
    },
    {
     "data": {
      "text/plain": [
       "True"
      ]
     },
     "execution_count": 3,
     "metadata": {},
     "output_type": "execute_result"
    }
   ],
   "source": [
    "input_file = 'application.log'\n",
    "output_file = 'error_only.log'\n",
    "\n",
    "def filter_log(input_file, output_file, keyword=\"ERROR\"):\n",
    "    \"\"\"\n",
    "    Reads a log file, filters lines containing the keyword,\n",
    "    and writes them to a new file.\n",
    "    \"\"\"\n",
    "    with open(input_file, 'r') as infile, open(output_file, 'w') as outfile:\n",
    "        filtered_lines = [line for line in infile if keyword in line]\n",
    "        outfile.writelines(filtered_lines)\n",
    "\n",
    "    print(f\"Filtered lines containing '{keyword}' written to {output_file}\")\n",
    "\n",
    "\n",
    "def validate_output(output_file, keyword=\"ERROR\"):\n",
    "    \"\"\"\n",
    "    Validates that every line in the output file contains the keyword.\n",
    "    Uses all() and list comprehension.\n",
    "    \"\"\"\n",
    "    with open(output_file, 'r') as file:\n",
    "        lines = file.readlines()\n",
    "\n",
    "    if all(keyword in line for line in lines):\n",
    "        print(\"Validation passed: All lines contain the keyword.\")\n",
    "        return True\n",
    "    else:\n",
    "        print(\"Validation failed: Some lines do not contain the keyword.\")\n",
    "        return False\n",
    "\n",
    "filter_log(input_file, output_file)\n",
    "validate_output(output_file)"
   ]
  },
  {
   "cell_type": "markdown",
   "metadata": {},
   "source": [
    "# task-3\n",
    "* Develop a script that processes log entries by extracting the timestamp, \n",
    "severity, and\n",
    "message from each line.\n",
    "* Validation: Ensure that the parsed elements match the expected values for sample\n",
    "log entries."
   ]
  },
  {
   "cell_type": "code",
   "execution_count": 10,
   "metadata": {},
   "outputs": [
    {
     "name": "stdout",
     "output_type": "stream",
     "text": [
      "Parsed: Timestamp=2025-04-17 12:34:56, Severity=INFO, Message=Server started successfully\n",
      "✅ Validation passed\n",
      "Parsed: Timestamp=2025-04-17 12:35:00, Severity=WARNING, Message=High memory usage detected\n",
      "✅ Validation passed\n",
      "Parsed: Timestamp=2025-04-17 12:35:10, Severity=ERROR, Message=Failed to connect to database\n",
      "✅ Validation passed\n"
     ]
    }
   ],
   "source": [
    "import re\n",
    "\n",
    "# Sample log lines\n",
    "log_entries = [\n",
    "    \"2025-04-17 12:34:56 [INFO] Server started successfully\",\n",
    "    \"2025-04-17 12:35:00 [WARNING] High memory usage detected\",\n",
    "    \"2025-04-17 12:35:10 [ERROR] Failed to connect to database\" \n",
    "]\n",
    "\n",
    "# Regex pattern to extract timestamp, severity, and message\n",
    "log_pattern = r'^(\\d{4}-\\d{2}-\\d{2} \\d{2}:\\d{2}:\\d{2}) \\[(\\w+)\\] (.+)$'\n",
    "\n",
    "# Expected parsed values for validation\n",
    "expected = [\n",
    "    (\"2025-04-17 12:34:56\", \"INFO\", \"Server started successfully\"),\n",
    "    (\"2025-04-17 12:35:00\", \"WARNING\", \"High memory usage detected\"),\n",
    "    (\"2025-04-17 12:35:10\", \"ERROR\", \"Failed to connect to database\")\n",
    "]\n",
    "\n",
    "# Process each log line\n",
    "for i, line in enumerate(log_entries):\n",
    "    match = re.match(log_pattern, line)\n",
    "    if match:\n",
    "        timestamp, severity, message = match.groups()\n",
    "        print(f\"Parsed: Timestamp={timestamp}, Severity={severity}, Message={message}\")\n",
    "\n",
    "        # Validation\n",
    "        if (timestamp, severity, message) == expected[i]:\n",
    "            print(\"✅ Validation passed\")\n",
    "        else:\n",
    "            print(\"❌ Validation failed\")\n",
    "    else:\n",
    "        print(\"❌ Log line did not match the pattern\")\n"
   ]
  },
  {
   "cell_type": "code",
   "execution_count": 16,
   "metadata": {},
   "outputs": [
    {
     "name": "stdout",
     "output_type": "stream",
     "text": [
      "Parsing is done timestamp:2025-04-17 12:34:56, sevirity:INFO, message:Server started successfully\n",
      "Validation is Okay\n",
      "Parsing is done timestamp:2025-04-17 12:35:00, sevirity:WARNING, message:High memory usage detected\n",
      "Validation is Okay\n",
      "Parsing is done timestamp:2025-04-17 12:35:10, sevirity:ERROR, message:Failed to connect to database\n",
      "Validation is Okay\n",
      "log pattern is not according to pattern\n"
     ]
    }
   ],
   "source": [
    "import re\n",
    "\n",
    "log_entries = [\n",
    "    \"2025-04-17 12:34:56 [INFO] Server started successfully\",\n",
    "    \"2025-04-17 12:35:00 [WARNING] High memory usage detected\",\n",
    "    \"2025-04-17 12:35:10 [ERROR] Failed to connect to database\" ,\n",
    "    'hi'\n",
    "]\n",
    "\n",
    "expected = [\n",
    "    ('2025-04-17 12:34:56', 'INFO', 'Server started successfully'),\n",
    "    ('2025-04-17 12:35:00', 'WARNING', 'High memory usage detected'),\n",
    "    ('2025-04-17 12:35:10', 'ERROR', 'Failed to connect to database')\n",
    "]\n",
    "\n",
    "\n",
    "log_pattern = r'^(\\d{4}-\\d{2}-\\d{2}\\s+\\d{2}:\\d{2}:\\d{2}) \\[(\\w+)\\] (.+)$'\n",
    "\n",
    "for i, line in enumerate(log_entries):\n",
    "    match = re.match(log_pattern, line)\n",
    "    if match:\n",
    "        timestamp, severity, message = match.groups()\n",
    "        print(f'Parsing is done timestamp:{timestamp}, sevirity:{severity}, message:{message}')\n",
    "        if (timestamp, severity, message) == expected[i]:\n",
    "            print('Validation is Okay')\n",
    "        else:\n",
    "            print('Validation is not Okay')\n",
    "    else: \n",
    "        print('log pattern is not according to pattern')\n",
    "\n"
   ]
  },
  {
   "cell_type": "markdown",
   "metadata": {},
   "source": [
    "# task -4\n",
    "* Write a function to extract email addresses or specific patterns from a block of text\n",
    "using regular expressions.\n",
    "* Validation: Provide several test cases to confirm that the function correctly identifies\n",
    "or rejects entries."
   ]
  },
  {
   "cell_type": "code",
   "execution_count": 25,
   "metadata": {},
   "outputs": [
    {
     "name": "stdout",
     "output_type": "stream",
     "text": [
      "Mail is extracted and mail is konduriakhil1998@gmail.com\n",
      " verified successfully\n",
      "Mail is extracted and mail is saikonduri@gmail.com\n",
      " verified successfully\n",
      "Mail is extracted and mail is varshath939@gmail.com\n",
      " verified successfully\n"
     ]
    }
   ],
   "source": [
    "import re\n",
    "\n",
    "# text = 'my email address is konduriakhil1998@gmail.com, saikonduri@gmail.com and varshath939@gmail.com'\n",
    "with open('file.txt', 'r') as f:\n",
    "    text = f.read()\n",
    "\n",
    "def email_extraction(text):\n",
    "    result = re.findall(r'\\b\\w+\\@\\w+\\.\\w+\\b', text)\n",
    "    return result\n",
    "\n",
    "\n",
    "def verification_of_result(result):\n",
    "    expected = ['konduriakhil1998@gmail.com', 'saikonduri@gmail.com', 'varshath939@gmail.com']\n",
    "\n",
    "    for i,mail in enumerate(email_extraction(text)):\n",
    "\n",
    "        if mail:\n",
    "            print(f'Mail is extracted and mail is {mail}')\n",
    "\n",
    "            if mail == expected[i]:\n",
    "                print(' verified successfully')\n",
    "            else:\n",
    "                print('Email is not verified successfully')\n",
    "        else:\n",
    "            print('The mail pattern is not correct')\n",
    "\n",
    "result = email_extraction(text)\n",
    "verification_of_result(result)"
   ]
  },
  {
   "cell_type": "markdown",
   "metadata": {},
   "source": [
    "### chatgpt improved version"
   ]
  },
  {
   "cell_type": "code",
   "execution_count": 28,
   "metadata": {},
   "outputs": [
    {
     "name": "stdout",
     "output_type": "stream",
     "text": [
      "Mail is extracted: konduriakhil1998@gmail.com\n",
      "✅ Verified successfully\n",
      "\n",
      "Mail is extracted: saikonduri@gmail.com\n",
      "✅ Verified successfully\n",
      "\n",
      "Mail is extracted: varshath939@gmail.com\n",
      "✅ Verified successfully\n",
      "\n"
     ]
    }
   ],
   "source": [
    "import re\n",
    "\n",
    "# text = 'my email address is konduriakhil1998@gmail.com, saikonduri@gmail.com and varshath939@gmail.com'\n",
    "with open('file.txt', 'r') as f:\n",
    "    text = f.read()\n",
    "\n",
    "def email_extraction(text):\n",
    "    # Improved regex pattern\n",
    "    result = re.findall(r'\\b[\\w\\.-]+@[\\w\\.-]+\\.\\w+\\b', text)\n",
    "    return result\n",
    "\n",
    "\n",
    "def verification_of_result(result):\n",
    "    expected = ['konduriakhil1998@gmail.com', 'saikonduri@gmail.com', 'varshath939@gmail.com']\n",
    "\n",
    "    if len(result) != len(expected):\n",
    "        print(f'Expected {len(expected)} emails, but found {len(result)}')\n",
    "        return\n",
    "\n",
    "    for i, mail in enumerate(result):\n",
    "        print(f'Mail is extracted: {mail}')\n",
    "\n",
    "        if mail == expected[i]:\n",
    "            print('✅ Verified successfully\\n')\n",
    "        else:\n",
    "            print('❌ Email is not verified successfully\\n')\n",
    "\n",
    "\n",
    "# Run the functions\n",
    "result = email_extraction(text)\n",
    "verification_of_result(result)\n"
   ]
  },
  {
   "cell_type": "markdown",
   "metadata": {},
   "source": [
    "# task-5\n",
    " Exception Handling (Optional)\n",
    "· Concepts: Try-except blocks, raising exceptions, and creating custom error messages.\n",
    ". Task:\n",
    "· Create a script that attempts to open a file and gracefully handles the case when the\n",
    "file is missing, logging an appropriate error message.\n",
    ". Validation: Simulate a missing file scenario and confirm that the error is caught and\n",
    "logged as expected."
   ]
  },
  {
   "cell_type": "code",
   "execution_count": 35,
   "metadata": {},
   "outputs": [
    {
     "name": "stdout",
     "output_type": "stream",
     "text": [
      "Content of the file is: \n",
      "hi,  hello, how are you?\n",
      "my email address is konduriakhil1998@gmail.com, saikonduri@gmail.com and varshath939@gmail.com\n",
      " unexpected error arised - division by zero\n"
     ]
    }
   ],
   "source": [
    "import logging\n",
    "\n",
    "logging.basicConfig(\n",
    "    filename='error_log.txt',\n",
    "    level=logging.ERROR,\n",
    "    format='%(asctime)s - %(levelname)s - %(message)s'\n",
    ")\n",
    "\n",
    "def open_file(filename):\n",
    "    try:\n",
    "        with open(filename, 'r') as f:\n",
    "            content = f.read()\n",
    "            print('Content of the file is: ')\n",
    "            print(content)\n",
    "            result = 2 / 0\n",
    "    except FileNotFoundError as e: \n",
    "        error_msg = f'File {filename} not found'\n",
    "        print(error_msg)\n",
    "        logging.error(error_msg)\n",
    "    except Exception as e:\n",
    "        error_msg = f' unexpected error arised - {e}'\n",
    "        print(error_msg)\n",
    "        logging.error(error_msg)\n",
    "\n",
    "open_file('file.txt')"
   ]
  },
  {
   "cell_type": "code",
   "execution_count": null,
   "metadata": {},
   "outputs": [],
   "source": [
    "# Sample log lines\n",
    "log_lines = [\n",
    "    \"2025-04-17 12:34:56 [INFO] Server started successfully\",\n",
    "    \"2025-04-17 12:35:00 [WARNING] High memory usage detected\",\n",
    "    \"2025-04-17 12:35:10 [ERROR] Failed to connect to database\",\n",
    "    \"2025-04-17 12:36:00 [INFO] User logged in\",\n",
    "    \"2025-04-17 12:37:00 [ERROR] Disk space critically low\"\n",
    "]\n",
    "\n",
    "# Group log lines by severity\n",
    "def group_logs_by_severity(log_lines):\n",
    "    grouped_logs = {}\n",
    "    log_pattern = r'^\\d{4}-\\d{2}-\\d{2} \\d{2}:\\d{2}:\\d{2} \\[(\\w+)\\]'\n",
    "\n",
    "    for line in log_lines:\n",
    "        match = re.match(log_pattern, line)\n",
    "        if match:\n",
    "            severity = match.group(1)\n",
    "            if severity not in grouped_logs:\n",
    "                grouped_logs[severity] = []\n",
    "            grouped_logs[severity].append(line)\n",
    "\n",
    "    return grouped_logs\n",
    "\n",
    "# Validate the grouping\n",
    "def validate_grouping(grouped_logs):\n",
    "    expected_counts = {\n",
    "        \"INFO\": 2,\n",
    "        \"WARNING\": 1,\n",
    "        \"ERROR\": 2\n",
    "    }\n",
    "\n",
    "    for severity, logs in grouped_logs.items():\n",
    "        print(f\"{severity}: {len(logs)} entries\")\n",
    "        if len(logs) == expected_counts.get(severity, 0):\n",
    "            print(f\"✅ {severity} count validated\")\n",
    "        else:\n",
    "            print(f\"❌ {severity} count mismatch\")\n",
    "\n",
    "grouped_logs = group_logs_by_severity(log_lines)\n",
    "validate_grouping(grouped_logs)"
   ]
  }
 ],
 "metadata": {
  "kernelspec": {
   "display_name": "Python 3",
   "language": "python",
   "name": "python3"
  },
  "language_info": {
   "codemirror_mode": {
    "name": "ipython",
    "version": 3
   },
   "file_extension": ".py",
   "mimetype": "text/x-python",
   "name": "python",
   "nbconvert_exporter": "python",
   "pygments_lexer": "ipython3",
   "version": "3.12.6"
  }
 },
 "nbformat": 4,
 "nbformat_minor": 2
}
