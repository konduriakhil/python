{
 "cells": [
  {
   "cell_type": "markdown",
   "metadata": {},
   "source": [
    "# regular expressions module\n",
    "\n",
    "## 📘 Python `re` Module – Notes\n",
    "\n",
    "### 🔹 What is `re`?\n",
    "\n",
    "- `re` stands for **regular expression**.\n",
    "- It's a built-in Python module used to **search**, **match**, **replace**, or **split** text based on patterns.\n",
    "\n",
    "---\n",
    "\n",
    "### ✅ How to use it\n",
    "\n",
    "```python\n",
    "import re\n",
    "```\n",
    "\n",
    "---\n",
    "\n",
    "### 🔸 Common `re` Functions\n",
    "\n",
    "| Function            | Description |\n",
    "|---------------------|-------------|\n",
    "| `re.findall()`      | Returns all matches in a list |\n",
    "| `re.search()`       | Returns the first match (as a Match object) |\n",
    "| `re.match()`        | Checks for a match **only at the beginning** of the string |\n",
    "| `re.sub()`          | Replaces parts of the string |\n",
    "| `re.split()`        | Splits string by pattern |\n",
    "\n",
    "---\n",
    "\n",
    "### 🔹 What is a **pattern**?\n",
    "\n",
    "A pattern is a set of characters used to define what you're looking for in a string.\n",
    "\n",
    "---\n",
    "\n",
    "### 🔸 Common Regex Patterns\n",
    "\n",
    "| Pattern   | Meaning                     | Example Match       |\n",
    "|-----------|-----------------------------|----------------------|\n",
    "| `\\d`      | Any digit (0–9)              | `2` in `I have 2 cats` |\n",
    "| `\\w`      | Any word character (A–Z, a–z, 0–9, _) | `hello_123` |\n",
    "| `\\s`      | Any whitespace               | Space, tab, newline  |\n",
    "| `\\b`      | Word boundary                | Start/end of words   |\n",
    "| `.`       | Any character **except newline** | `a`, `1`, `@` etc. |\n",
    "| `+`       | One or more                  | `\\d+` matches `123` |\n",
    "| `*`       | Zero or more                 | `a*` matches `aaa`, `a`, or `\"\"` |\n",
    "| `[]`      | Set of characters            | `[aeiou]` matches any vowel |\n",
    "| `^`       | Start of string              | `^Hello` matches if string starts with Hello |\n",
    "| `$`       | End of string                | `world$` matches if string ends with world |\n",
    "\n",
    "---\n",
    "\n",
    "### 🔹 Raw String (`r''`)\n",
    "\n",
    "- Write regex patterns using **raw strings**: `r'\\d+'`\n",
    "- Raw string means Python will **not escape backslashes**\n",
    "- Without `r`, you’d have to write `'\\\\d+'` — which is harder to read\n",
    "\n",
    "---\n",
    "\n",
    "### 🔸 Examples\n",
    "\n",
    "```python\n",
    "import re\n",
    "\n",
    "# Find all words\n",
    "re.findall(r'\\b\\w+\\b', \"Hello world!\")  # ['Hello', 'world']\n",
    "\n",
    "# Find all numbers\n",
    "re.findall(r'\\d+', \"I have 2 cats and 10 dogs\")  # ['2', '10']\n",
    "\n",
    "# Replace digits\n",
    "re.sub(r'\\d+', '#', \"Room 101\")  # 'Room #'\n",
    "\n",
    "# Split sentence by spaces\n",
    "re.split(r'\\s+', \"This is a test\")  # ['This', 'is', 'a', 'test']\n",
    "```\n",
    "\n",
    "---\n",
    "\n",
    "### ✅ Tips\n",
    "\n",
    "- Always use `r''` for regex strings\n",
    "- Use `re.findall()` if you want all matches\n",
    "- Use `re.search()` if you only need the first match\n",
    "- Test your patterns at [regex101.com](https://regex101.com) (select Python flavor)"
   ]
  },
  {
   "cell_type": "markdown",
   "metadata": {},
   "source": [
    "# re.findall(pattern, string)\n",
    "\n",
    "Absolutely! Here are some **clear examples** of using `re.findall()` for different tasks. Each example will show how `re.findall()` extracts matches based on a specific pattern.\n",
    "\n",
    "### 1. **Extract All Words in a Sentence**\n",
    "   Pattern: `\\b\\w+\\b`\n",
    "\n",
    "```python\n",
    "import re\n",
    "\n",
    "text = \"Hello world! This is a test.\"\n",
    "words = re.findall(r'\\b\\w+\\b', text)\n",
    "\n",
    "print(words)  # ['Hello', 'world', 'This', 'is', 'a', 'test']\n",
    "```\n",
    "\n",
    "**Explanation**:\n",
    "- `\\b\\w+\\b` matches any word (letters/numbers/underscores), and ignores punctuation marks.\n",
    "  \n",
    "---\n",
    "\n",
    "### 2. **Extract All Numbers**\n",
    "   Pattern: `\\d+`\n",
    "\n",
    "```python\n",
    "import re\n",
    "\n",
    "text = \"There are 3 apples, 15 bananas, and 42 oranges.\"\n",
    "numbers = re.findall(r'\\d+', text)\n",
    "\n",
    "print(numbers)  # ['3', '15', '42']\n",
    "```\n",
    "\n",
    "**Explanation**:\n",
    "- `\\d+` matches **one or more digits**. It will extract all numbers in the text.\n",
    "  \n",
    "---\n",
    "\n",
    "### 3. **Extract Email Addresses**\n",
    "   Pattern: `\\w+@\\w+\\.\\w+`\n",
    "\n",
    "```python\n",
    "import re\n",
    "\n",
    "text = \"Contact us at support@example.com or sales@company.com.\"\n",
    "emails = re.findall(r'\\w+@\\w+\\.\\w+', text)\n",
    "\n",
    "print(emails)  # ['support@example.com', 'sales@company.com']\n",
    "```\n",
    "\n",
    "**Explanation**:\n",
    "- `\\w+` matches one or more word characters (letters, digits, underscores).\n",
    "- `@` and `.` are literal characters to match in an email address.\n",
    "- This pattern extracts all email addresses.\n",
    "\n",
    "---\n",
    "\n",
    "### 4. **Extract Words Starting with a Specific Letter**\n",
    "   Pattern: `\\b[Aa]\\w+\\b` (words starting with 'A' or 'a')\n",
    "\n",
    "```python\n",
    "import re\n",
    "\n",
    "text = \"Alice went to the art gallery.\"\n",
    "words_with_a = re.findall(r'\\b[Aa]\\w+\\b', text)\n",
    "\n",
    "print(words_with_a)  # ['Alice', 'art']\n",
    "```\n",
    "\n",
    "**Explanation**:\n",
    "- `[Aa]` matches either an uppercase `A` or a lowercase `a`.\n",
    "- This pattern extracts all words starting with 'A' or 'a'.\n",
    "\n",
    "---\n",
    "\n",
    "### 5. **Extract Dates (DD-MM-YYYY format)**\n",
    "   Pattern: `\\b\\d{2}-\\d{2}-\\d{4}\\b`\n",
    "\n",
    "```python\n",
    "import re\n",
    "\n",
    "text = \"The event will be held on 25-12-2022 and 01-01-2023.\"\n",
    "dates = re.findall(r'\\b\\d{2}-\\d{2}-\\d{4}\\b', text)\n",
    "\n",
    "print(dates)  # ['25-12-2022', '01-01-2023']\n",
    "```\n",
    "\n",
    "**Explanation**:\n",
    "- `\\d{2}` matches exactly two digits.\n",
    "- `-` is the literal separator between day, month, and year.\n",
    "- `\\d{4}` matches exactly four digits for the year.\n",
    "\n",
    "---\n",
    "\n",
    "### 6. **Extract Hashtags (e.g., #Python, #DataScience)**\n",
    "   Pattern: `#\\w+`\n",
    "\n",
    "```python\n",
    "import re\n",
    "\n",
    "text = \"I love #Python and #DataScience!\"\n",
    "hashtags = re.findall(r'#\\w+', text)\n",
    "\n",
    "print(hashtags)  # ['#Python', '#DataScience']\n",
    "```\n",
    "\n",
    "**Explanation**:\n",
    "- `#` is the literal character used in hashtags.\n",
    "- `\\w+` matches one or more word characters after `#`.\n",
    "\n",
    "---\n",
    "\n",
    "### 7. **Extract All Words with a Specific Length**\n",
    "   Pattern: `\\b\\w{5}\\b` (words with exactly 5 characters)\n",
    "\n",
    "```python\n",
    "import re\n",
    "\n",
    "text = \"I have a dream of creating great code.\"\n",
    "words_with_5 = re.findall(r'\\b\\w{5}\\b', text)\n",
    "\n",
    "print(words_with_5)  # ['dream', 'great']\n",
    "```\n",
    "\n",
    "**Explanation**:\n",
    "- `\\w{5}` matches any word that has exactly **5 characters**.\n",
    "  \n",
    "---\n",
    "\n",
    "### 8. **Extract URLs**\n",
    "   Pattern: `https?://(?:[-\\w.]|(?:%[\\da-fA-F]{2}))+`\n",
    "\n",
    "```python\n",
    "import re\n",
    "\n",
    "text = \"Visit us at https://www.example.com or http://example.org\"\n",
    "urls = re.findall(r'https?://(?:[-\\w.]|(?:%[\\da-fA-F]{2}))+', text)\n",
    "\n",
    "print(urls)  # ['https://www.example.com', 'http://example.org']\n",
    "```\n",
    "\n",
    "**Explanation**:\n",
    "- `https?://` matches the **http** or **https** protocol in URLs.\n",
    "- `(?:...)` is a **non-capturing group**, which groups characters without capturing them as separate matches.\n",
    "  \n",
    "---\n",
    "\n",
    "### 9. **Extract All Words Without Vowels**\n",
    "   Pattern: `\\b[^aeiouAEIOU\\s\\d\\W]+\\b`\n",
    "\n",
    "```python\n",
    "import re\n",
    "\n",
    "text = \"The quick brown fox jumps over the lazy dog.\"\n",
    "words_without_vowels = re.findall(r'\\b[^aeiouAEIOU\\s\\d\\W]+\\b', text)\n",
    "\n",
    "print(words_without_vowels)  # ['Th', 'qck', 'brwn', 'fx', 'jmps', 'vr', 'th', 'lzy', 'dg']\n",
    "```\n",
    "\n",
    "**Explanation**:\n",
    "- `[^aeiouAEIOU]` matches any character **except vowels** (both lowercase and uppercase).\n",
    "- This pattern helps extract words that **don’t contain any vowels**.\n",
    "\n",
    "---\n",
    "\n",
    "### 10. **Extract All Words with Numbers in Them**\n",
    "   Pattern: `\\b\\w*\\d\\w*\\b`\n",
    "\n",
    "```python\n",
    "import re\n",
    "\n",
    "text = \"My code is v1.0, and I have 100 items.\"\n",
    "words_with_numbers = re.findall(r'\\b\\w*\\d\\w*\\b', text)\n",
    "\n",
    "print(words_with_numbers)  # ['v1.0', '100']\n",
    "```\n",
    "\n",
    "**Explanation**:\n",
    "- `\\w*\\d\\w*` matches words that contain **at least one digit**.\n",
    "\n",
    "---\n",
    "\n",
    "### Final Summary of `re.findall()`:\n",
    "\n",
    "- **`re.findall(pattern, string)`** returns all non-overlapping matches of the pattern in the string as a list.\n",
    "- It's great for **searching through strings** and extracting parts that match a given pattern.\n",
    "\n",
    "Would you like any of these examples explained in more detail or additional practice examples? 😊"
   ]
  },
  {
   "cell_type": "markdown",
   "metadata": {},
   "source": [
    "### words"
   ]
  },
  {
   "cell_type": "code",
   "execution_count": 23,
   "metadata": {},
   "outputs": [
    {
     "name": "stdout",
     "output_type": "stream",
     "text": [
      "['Jai', 'Sree', 'Ram']\n"
     ]
    }
   ],
   "source": [
    "import re\n",
    "\n",
    "text = 'Jai Sree Ram.....'\n",
    "result = re.findall(r'\\b\\w+\\b', text)\n",
    "print(result)\n"
   ]
  },
  {
   "cell_type": "markdown",
   "metadata": {},
   "source": [
    "### numbers"
   ]
  },
  {
   "cell_type": "code",
   "execution_count": 1,
   "metadata": {},
   "outputs": [
    {
     "name": "stdout",
     "output_type": "stream",
     "text": [
      "['1', '2', '5', '344']\n"
     ]
    }
   ],
   "source": [
    "import re\n",
    "\n",
    "text = '1 apple, 2 bananas, 5 oranges, 344 grapes'\n",
    "result = re.findall(r'\\d+', text)\n",
    "print(result)"
   ]
  },
  {
   "cell_type": "markdown",
   "metadata": {},
   "source": [
    "### finding email"
   ]
  },
  {
   "cell_type": "code",
   "execution_count": 2,
   "metadata": {},
   "outputs": [
    {
     "name": "stdout",
     "output_type": "stream",
     "text": [
      "['konduriakhil1998@gamil.com']\n"
     ]
    }
   ],
   "source": [
    "import re\n",
    "\n",
    "t = 'My email is konduriakhil1998@gamil.com'\n",
    "result = re.findall(r'\\w+@\\w+\\.\\w+', t)\n",
    "print(result)"
   ]
  },
  {
   "cell_type": "markdown",
   "metadata": {},
   "source": [
    "###  Extract Words Starting with a Specific Letter"
   ]
  },
  {
   "cell_type": "code",
   "execution_count": 3,
   "metadata": {},
   "outputs": [
    {
     "name": "stdout",
     "output_type": "stream",
     "text": [
      "['Akhil', 'allmighty', 'all', 'Admin']\n"
     ]
    }
   ],
   "source": [
    "import re\n",
    " \n",
    "t = 'Akhil is a good allmighty all powerfull Admin'\n",
    "print(re.findall(r'\\b[Aa]\\w+\\b', t))\n"
   ]
  },
  {
   "cell_type": "markdown",
   "metadata": {},
   "source": [
    "### Printing dates"
   ]
  },
  {
   "cell_type": "code",
   "execution_count": 4,
   "metadata": {},
   "outputs": [
    {
     "name": "stdout",
     "output_type": "stream",
     "text": [
      "['21-06-1998', '15-07-1999']\n"
     ]
    }
   ],
   "source": [
    "import re\n",
    "\n",
    "t = 'my dob is 21-06-1998 and by my brother is 15-07-1999'\n",
    "print(re.findall(r'\\b\\d{2}-\\d{2}-\\d{4}\\b', t))"
   ]
  },
  {
   "cell_type": "markdown",
   "metadata": {},
   "source": [
    "### Extract #'s"
   ]
  },
  {
   "cell_type": "code",
   "execution_count": 5,
   "metadata": {},
   "outputs": [
    {
     "name": "stdout",
     "output_type": "stream",
     "text": [
      "['#apple', '#bananas', '#grapes']\n"
     ]
    }
   ],
   "source": [
    "import re\n",
    "\n",
    "t = 'I Love #apple #bananas #grapes'\n",
    "print(re.findall(r'#\\w+', t))"
   ]
  },
  {
   "cell_type": "markdown",
   "metadata": {},
   "source": [
    "# Extract All Words with a Specific Length"
   ]
  },
  {
   "cell_type": "code",
   "execution_count": 6,
   "metadata": {},
   "outputs": [
    {
     "name": "stdout",
     "output_type": "stream",
     "text": [
      "['martur', 'honest']\n"
     ]
    }
   ],
   "source": [
    "import re\n",
    "\n",
    "t = 'This is akhil konduri from martur and good looking, honest'\n",
    "print(re.findall(r'\\b\\w{6}\\b', t))"
   ]
  },
  {
   "cell_type": "markdown",
   "metadata": {},
   "source": [
    "### Extract All Words Without Vowels"
   ]
  },
  {
   "cell_type": "code",
   "execution_count": 7,
   "metadata": {},
   "outputs": [
    {
     "name": "stdout",
     "output_type": "stream",
     "text": [
      "['ss', 'l', 'ssh']\n"
     ]
    }
   ],
   "source": [
    "import re\n",
    "\n",
    "t = 'this is english course, please pay attention and enjoy the class ss l ssh'\n",
    "print(re.findall(r'\\b[^aeiouAEIOU\\s\\d\\W]+\\b', t))"
   ]
  },
  {
   "cell_type": "markdown",
   "metadata": {},
   "source": [
    "## re.search(pattern, string)\n",
    "Great question! In the Python `re` module, both `findall()` and `search()` are used to work with patterns in strings — but they behave **very differently**.\n",
    "\n",
    "---\n",
    "\n",
    "## ✅ Difference Between `re.findall()` and `re.search()`\n",
    "\n",
    "| Feature              | `re.findall()`                                | `re.search()`                             |\n",
    "|----------------------|-----------------------------------------------|-------------------------------------------|\n",
    "| **What it returns**  | A **list** of all matches                     | A **Match object** (first match only)     |\n",
    "| **Returns if no match** | Empty list `[]`                             | Returns `None`                            |\n",
    "| **Use case**         | When you want **all matches**                 | When you just want to **check for one match** (and get info) |\n",
    "| **Searches**         | The **entire string**                         | Also searches the **entire string**, but stops at the first match |\n",
    "\n",
    "---\n",
    "\n",
    "## 🔍 Examples\n",
    "\n",
    "### 1. `re.findall()` – All Matches\n",
    "\n",
    "```python\n",
    "import re\n",
    "\n",
    "text = \"I have 2 apples and 5 bananas.\"\n",
    "\n",
    "numbers = re.findall(r'\\d+', text)\n",
    "print(numbers)  # ['2', '5']\n",
    "```\n",
    "\n",
    "> `findall()` gives **all the numbers** found in the string.\n",
    "\n",
    "---\n",
    "\n",
    "### 2. `re.search()` – First Match Only\n",
    "\n",
    "```python\n",
    "import re\n",
    "\n",
    "text = \"I have 2 apples and 5 bananas.\"\n",
    "\n",
    "match = re.search(r'\\d+', text)\n",
    "if match:\n",
    "    print(match.group())  # 2\n",
    "```\n",
    "\n",
    "> `search()` returns a **Match object**, and `match.group()` gives you the first match.\n",
    "\n",
    "---\n",
    "\n",
    "### 🚨 Important Notes\n",
    "\n",
    "- `re.search()` is useful when you want to know **if a match exists**, or want to get **start and end positions** using:\n",
    "  ```python\n",
    "  match.start(), match.end()\n",
    "  ```\n",
    "- `re.findall()` gives **just the matched strings** as a list.\n",
    "\n",
    "---\n",
    "\n",
    "### ✅ Summary\n",
    "\n",
    "| You want...                         | Use...         |\n",
    "|-------------------------------------|----------------|\n",
    "| All matches                         | `re.findall()` |\n",
    "| Only the first match or existence   | `re.search()`  |\n",
    "| Match position information          | `re.search()`  |\n",
    "\n",
    "---\n",
    "\n",
    "Would you like examples comparing `re.match()` too?\n"
   ]
  },
  {
   "cell_type": "code",
   "execution_count": 8,
   "metadata": {},
   "outputs": [
    {
     "name": "stdout",
     "output_type": "stream",
     "text": [
      "Match found\n"
     ]
    }
   ],
   "source": [
    "import re\n",
    "\n",
    "t = 'Candidate name is Konduri Akhil, Akhil is good and Konduri is Akhil sir name'\n",
    "match = re.search(r'Akhil', t)\n",
    "if match:\n",
    "    print('Match found')\n",
    "else:\n",
    "    print('Match not found')    \n"
   ]
  },
  {
   "cell_type": "code",
   "execution_count": 9,
   "metadata": {},
   "outputs": [
    {
     "name": "stdout",
     "output_type": "stream",
     "text": [
      "The match is:  Akhil\n",
      "Starting index of match is:  26\n",
      "Ending index of the match is:  31\n",
      "Spaning of the match is:  (26, 31)\n"
     ]
    }
   ],
   "source": [
    "import re \n",
    "\n",
    "t = 'Candidate name is Konduri Akhil, Akhil is good and Konduri is Akhil sir name'\n",
    "match = re.search(r'Akhil', t)\n",
    "print('The match is: ', match.group())\n",
    "print('Starting index of match is: ', match.start())\n",
    "print('Ending index of the match is: ', match.end())\n",
    "print('Spaning of the match is: ', match.span())"
   ]
  },
  {
   "cell_type": "markdown",
   "metadata": {},
   "source": [
    "# re.match(pattern, string)\n",
    "The re.match() function attempts to match a pattern only at the beginning of a string. If the pattern is found at the start, it returns a match object; otherwise, it returns None.\n",
    "\n",
    "re.match() checks for a match only at the beginning of the string.\n",
    "\n",
    "If the pattern is found at the start, it returns a match object; otherwise, it returns None.\n",
    "\n",
    "Use re.search() if you need to search for a pattern anywhere in the string."
   ]
  },
  {
   "cell_type": "code",
   "execution_count": 10,
   "metadata": {},
   "outputs": [
    {
     "name": "stdout",
     "output_type": "stream",
     "text": [
      "Match found:  Aham\n"
     ]
    }
   ],
   "source": [
    "import re\n",
    "\n",
    "t = 'Aham brahma Asmi'\n",
    "result = re.match(r'Aham', t)\n",
    "if result:\n",
    "    print('Match found: ', result.group())\n",
    "else:\n",
    "    print('Match not found')    \n"
   ]
  },
  {
   "cell_type": "markdown",
   "metadata": {},
   "source": [
    "# re.sub(pattern, replacement, string, count=0, flags=0)\n",
    "\n",
    "Certainly! The `re.sub()` function in Python's `re` module is used to **replace occurrences of a pattern** in a string with a specified replacement. Here's a comprehensive guide to understanding and using `re.sub()` effectively.\n",
    "\n",
    "---\n",
    "\n",
    "### 🔹 Syntax of `re.sub()`\n",
    "\n",
    "```python\n",
    "re.sub(pattern, replacement, string, count=0, flags=0)\n",
    "```\n",
    "\n",
    "- **`pattern`**: The regular expression pattern to search for.\n",
    "- **`replacement`**: The string to replace the matched patterns with.\n",
    "- **`string`**: The input string where replacements will occur.\n",
    "- **`count`** *(optional)*: The maximum number of pattern occurrences to replace. Defaults to `0`, which means replace all occurrences.\n",
    "- **`flags`** *(optional)*: Modify the behavior of the pattern matching (e.g., `re.IGNORECASE` for case-insensitive matching).\n",
    "\n",
    "---\n",
    "\n",
    "### 🔹 Basic Examples\n",
    "\n",
    "#### 1. **Replace All Whitespace with a Dash**\n",
    "\n",
    "```python\n",
    "import re\n",
    "\n",
    "text = \"The rain in Spain\"\n",
    "result = re.sub(r\"\\s\", \"-\", text)\n",
    "print(result)  # Output: The-rain-in-Spain\n",
    "```\n",
    "\n",
    "**Explanation**: `\\s` matches any whitespace character. All whitespace characters are replaced with `-`.\n",
    "\n",
    "---\n",
    "\n",
    "#### 2. **Replace Only the First Two Whitespace Occurrences**\n",
    "\n",
    "```python\n",
    "import re\n",
    "\n",
    "text = \"The rain in Spain\"\n",
    "result = re.sub(r\"\\s\", \"-\", text, count=2)\n",
    "print(result)  # Output: The-rain-in Spain\n",
    "```\n",
    "\n",
    "**Explanation**: Only the first two whitespace characters are replaced with `-` due to `count=2`.\n",
    "\n",
    "---\n",
    "\n",
    "#### 3. **Remove All Non-Digit Characters from a Phone Number**\n",
    "\n",
    "```python\n",
    "import re\n",
    "\n",
    "phone = \"(212)-456-7890\"\n",
    "cleaned = re.sub(r\"\\D\", \"\", phone)\n",
    "print(cleaned)  # Output: 2124567890\n",
    "```\n",
    "\n",
    "**Explanation**: `\\D` matches any non-digit character. All such characters are removed, leaving only digits.\n",
    "\n",
    "---\n",
    "\n",
    "### 🔹 Advanced Usage: Using a Function as Replacement\n",
    "\n",
    "You can pass a function to `re.sub()` to determine the replacement string dynamically.\n",
    "\n",
    "#### Example: Capitalize All Words\n",
    "\n",
    "```python\n",
    "import re\n",
    "\n",
    "def capitalize(match):\n",
    "    return match.group(0).upper()\n",
    "\n",
    "text = \"hello world\"\n",
    "result = re.sub(r\"\\b\\w+\\b\", capitalize, text)\n",
    "print(result)  # Output: HELLO WORLD\n",
    "```\n",
    "\n",
    "**Explanation**: The function `capitalize` converts each matched word to uppercase.\n",
    "\n",
    "---\n",
    "\n",
    "### 🔹 Using Capture Groups in Replacement\n",
    "\n",
    "You can use capture groups in your pattern and refer to them in the replacement string.\n",
    "\n",
    "#### Example: Swap First and Last Names\n",
    "\n",
    "```python\n",
    "import re\n",
    "\n",
    "text = \"Doe, John\"\n",
    "result = re.sub(r\"(\\w+), (\\w+)\", r\"\\2 \\1\", text)\n",
    "print(result)  # Output: John Doe\n",
    "```\n",
    "\n",
    "**Explanation**: `(\\w+), (\\w+)` captures two words separated by a comma. `\\2 \\1` rearranges them.\n",
    "\n",
    "---\n",
    "\n",
    "### 🔹 Common Use Cases\n",
    "\n",
    "- **Data Cleaning**: Removing unwanted characters or formatting strings.\n",
    "- **Text Normalization**: Standardizing text for analysis.\n",
    "- **Pattern-Based Replacements**: Modifying strings based on specific patterns.\n",
    "\n",
    "---\n",
    "\n",
    "If you have a specific scenario or need further clarification on any aspect of `re.sub()`, feel free to ask! "
   ]
  },
  {
   "cell_type": "markdown",
   "metadata": {},
   "source": [
    "### simple example"
   ]
  },
  {
   "cell_type": "code",
   "execution_count": 11,
   "metadata": {},
   "outputs": [
    {
     "name": "stdout",
     "output_type": "stream",
     "text": [
      "Konduri.Akhil\n"
     ]
    }
   ],
   "source": [
    "import re\n",
    "\n",
    "t = 'Konduri Akhil'\n",
    "res = re.sub(r'\\s', '.', t)\n",
    "print(res)"
   ]
  },
  {
   "cell_type": "markdown",
   "metadata": {},
   "source": [
    "### Replace Only the First Two Whitespace Occurrences"
   ]
  },
  {
   "cell_type": "code",
   "execution_count": 12,
   "metadata": {},
   "outputs": [
    {
     "name": "stdout",
     "output_type": "stream",
     "text": [
      "Hi-This-Akhil Konduri\n"
     ]
    }
   ],
   "source": [
    "import re\n",
    "\n",
    "t = 'Hi This Akhil Konduri'\n",
    "print(re.sub(r'\\s', '-', t, count=2))"
   ]
  },
  {
   "cell_type": "markdown",
   "metadata": {},
   "source": [
    "###  Remove All Non-Digit Characters from a Phone Number"
   ]
  },
  {
   "cell_type": "code",
   "execution_count": 13,
   "metadata": {},
   "outputs": [
    {
     "name": "stdout",
     "output_type": "stream",
     "text": [
      "919652137125\n"
     ]
    }
   ],
   "source": [
    "import re\n",
    "\n",
    "phone = \"+91 (96521-37125)\"\n",
    "print(re.sub(r'\\D', '', phone))"
   ]
  },
  {
   "cell_type": "markdown",
   "metadata": {},
   "source": [
    "### Advanced Usage: Using a Function as Replacement"
   ]
  },
  {
   "cell_type": "code",
   "execution_count": 14,
   "metadata": {},
   "outputs": [
    {
     "name": "stdout",
     "output_type": "stream",
     "text": [
      "KONDURI AKHIL\n"
     ]
    }
   ],
   "source": [
    "import re\n",
    "\n",
    "def capitalize(match):\n",
    "    return match.group(0).upper()\n",
    "\n",
    "name = 'Konduri Akhil'\n",
    "p = re.sub(r'\\b\\w+\\b', capitalize, name)\n",
    "print(p)"
   ]
  },
  {
   "cell_type": "markdown",
   "metadata": {},
   "source": [
    "# re.split(pattern, string, maxsplit=0, flags=0)\n",
    "\n",
    "The `re.split()` function in Python's `re` module allows you to split a string based on a regular expression pattern. This provides more flexibility than the standard `str.split()` method, which only allows splitting by fixed substrings.\n",
    "\n",
    "---\n",
    "\n",
    "### 🔹 Syntax\n",
    "\n",
    "```pythonre.split(pattern, string, maxsplit=0, flags=0)\n",
    "```\n",
    "\n",
    "\n",
    "- **`pattern`**:The regular expression pattern to split by\n",
    "- **`string`**:The input string to be split\n",
    "- **`maxsplit`** *(optional)*:Maximum number of splits to perform. Defaults to `0`, which means no limit\n",
    "- **`flags`** *(optional)*:Modifiers like `re.IGNORECASE` to change the behavior of the pattern matching\n",
    "\n",
    "---\n",
    "\n",
    "### 📘 Examples\n",
    "\n",
    "#### 1. **Split by Whitespace**\n",
    "\n",
    "```pytho\n",
    "import re\n",
    "\n",
    "text = \"The rain in Spain\"\n",
    "result = re.split(r\"\\s+\", text)\n",
    "print(resul)\n",
    "```\n",
    "\n",
    "\n",
    "**Output:**\n",
    "```\n",
    "['The', 'rain', 'in', 'Spain]\n",
    "```\n",
    "\n",
    "\n",
    "**Explanation:* `\\s+` matches one or more whitespace character.\n",
    "\n",
    "---\n",
    "\n",
    "#### 2. **Split by Multiple Delimiters (Comma or Period)**\n",
    "\n",
    "```pytho\n",
    "import re\n",
    "\n",
    "text = \"apple,pear.grape\"\n",
    "result = re.split(r\"[.,]\", text)\n",
    "print(resul)\n",
    "```\n",
    "\n",
    "\n",
    "**Output:**\n",
    "```\n",
    "['apple', 'pear', 'grape]\n",
    "```\n",
    "\n",
    "\n",
    "**Explanation:* `[.,]` matches either a comma or a perio.\n",
    "\n",
    "---\n",
    "\n",
    "#### 3. **Split with a Maximum Number of Splits**\n",
    "\n",
    "```pytho\n",
    "import re\n",
    "\n",
    "text = \"one two three four\"\n",
    "result = re.split(r\"\\s+\", text, maxsplit=2)\n",
    "print(resul)\n",
    "```\n",
    "\n",
    "\n",
    "**Output:**\n",
    "```\n",
    "['one', 'two', 'three four]\n",
    "```\n",
    "\n",
    "\n",
    "**Explanation:* Only the first two whitespace matches are used for splittin.\n",
    "\n",
    "---\n",
    "\n",
    "#### 4. **Split by Non-Digit Characters**\n",
    "\n",
    "```pytho\n",
    "import re\n",
    "\n",
    "text = \"12-45-78\"\n",
    "result = re.split(r\"\\D+\", text)\n",
    "print(resul)\n",
    "```\n",
    "\n",
    "\n",
    "**Output:**\n",
    "```\n",
    "['12', '45', '78]\n",
    "```\n",
    "\n",
    "\n",
    "**Explanation:* `\\D+` matches one or more non-digit character.\n",
    "\n",
    "---\n",
    "\n",
    "#### 5. **Split by Multiple Delimiters with Optional Whitespace**\n",
    "\n",
    "```pytho\n",
    "import re\n",
    "\n",
    "text = \"apple, banana; orange. grape\"\n",
    "result = re.split(r\"[,;.\\s]\\s*\", text)\n",
    "print(resul)\n",
    "```\n",
    "\n",
    "\n",
    "**Output:**\n",
    "```\n",
    "['apple', 'banana', 'orange', 'grape]\n",
    "```\n",
    "\n",
    "\n",
    "**Explanation:* `[,;.\\s]\\s*` matches a comma, semicolon, period, or whitespace, followed by any number of whitespace character.\n",
    "\n",
    "---\n",
    "\n",
    "### 📝 Notes\n",
    "\n",
    "- **Capturing Groups*: If your pattern includes capturing groups (i.e., parentheses), the matched delimiters are also included in the resut.\n",
    "  \n",
    "  ```python  import re\n",
    "\n",
    "  text = \"apple,banana,grape\"\n",
    "  result = re.split(r\"(,)\", text)\n",
    "  print(resut)\n",
    "  ```\n",
    "\n",
    "\n",
    "  **Output:**\n",
    "  ```\n",
    " \n",
    "['apple', ',', 'banana', ',', 'grap']\n",
    "  ```\n",
    "\n",
    "\n",
    "  **Explanation:* The commas are included in the result because of the capturing grop.\n",
    "\n",
    "- **Non-Matching Pattern*: If the pattern does not match anywhere in the string, the result is a list containing the original strig.\n",
    "\n",
    "  ```python  import re\n",
    "\n",
    "  text = \"apple banana grape\"\n",
    "  result = re.split(r\",\", text)\n",
    "  print(resut)\n",
    "  ```\n",
    "\n",
    "\n",
    "  **Output:**\n",
    "  ```\n",
    " \n",
    "['apple banana grap']\n",
    "  ```\n",
    "\n",
    "\n",
    "---\n",
    "\n",
    "If you have a specific use case or need further clarification on any aspect of `re.split()`, feel free to ask! "
   ]
  },
  {
   "cell_type": "markdown",
   "metadata": {},
   "source": [
    "### Split by Whitespace"
   ]
  },
  {
   "cell_type": "code",
   "execution_count": 15,
   "metadata": {},
   "outputs": [
    {
     "name": "stdout",
     "output_type": "stream",
     "text": [
      "['This', 'is', 'Konduri', 'Akhil']\n"
     ]
    }
   ],
   "source": [
    "import re\n",
    "\n",
    "t = 'This is Konduri Akhil'\n",
    "r = re.split(r'\\s+', t)\n",
    "print(r)"
   ]
  },
  {
   "cell_type": "markdown",
   "metadata": {},
   "source": [
    "### Split by Multiple Delimiters (Comma or Period)"
   ]
  },
  {
   "cell_type": "code",
   "execution_count": 16,
   "metadata": {},
   "outputs": [
    {
     "name": "stdout",
     "output_type": "stream",
     "text": [
      "['Hi', ' This is Martur', ' Bapatla', ' District']\n"
     ]
    }
   ],
   "source": [
    "import re\n",
    "\n",
    "t = 'Hi, This is Martur, Bapatla, District'\n",
    "r = re.split(r'[.,]',t)\n",
    "print(r)"
   ]
  },
  {
   "cell_type": "markdown",
   "metadata": {},
   "source": [
    "### Split with a Maximum Number of Splits"
   ]
  },
  {
   "cell_type": "code",
   "execution_count": 17,
   "metadata": {},
   "outputs": [
    {
     "name": "stdout",
     "output_type": "stream",
     "text": [
      "['HI,', 'Akhil,', 'Sai, Good Morning, Have a Nice day']\n"
     ]
    }
   ],
   "source": [
    "t = 'HI, Akhil, Sai, Good Morning, Have a Nice day'\n",
    "r = re.split(r'\\s+', t, maxsplit=2)\n",
    "print(r)"
   ]
  },
  {
   "cell_type": "markdown",
   "metadata": {},
   "source": [
    "### Split by Non-Digit Characters"
   ]
  },
  {
   "cell_type": "code",
   "execution_count": 18,
   "metadata": {},
   "outputs": [
    {
     "name": "stdout",
     "output_type": "stream",
     "text": [
      "['21', '06', '1998', '24', '10', '1997']\n"
     ]
    }
   ],
   "source": [
    "import re \n",
    "\n",
    "t = '21-06-1998, 24-10-1997'\n",
    "r = re.split(r'\\D+', t)\n",
    "print(r)"
   ]
  },
  {
   "cell_type": "markdown",
   "metadata": {},
   "source": [
    "###  Split by Multiple Delimiters with Optional Whitespace"
   ]
  },
  {
   "cell_type": "code",
   "execution_count": 19,
   "metadata": {},
   "outputs": [
    {
     "name": "stdout",
     "output_type": "stream",
     "text": [
      "['Akhil', 'Martur', 'Sai', 'Martur', 'Ajay', 'Karumunchi']\n"
     ]
    }
   ],
   "source": [
    "import re\n",
    " \n",
    "t = 'Akhil, Martur; Sai Martur; Ajay,  Karumunchi'\n",
    "r = re.split(r'[,.;:\\s]\\s*', t)\n",
    "print(r)\n"
   ]
  },
  {
   "cell_type": "markdown",
   "metadata": {},
   "source": [
    "### Capturing Groups: If your pattern includes capturing groups (i.e., parentheses), the matched delimiters are also included in the result."
   ]
  },
  {
   "cell_type": "code",
   "execution_count": 20,
   "metadata": {},
   "outputs": [
    {
     "name": "stdout",
     "output_type": "stream",
     "text": [
      "['AKhil', ',', ' Sai', ',', ' Mukunda']\n"
     ]
    }
   ],
   "source": [
    "import re\n",
    "\n",
    "t = 'AKhil, Sai, Mukunda'\n",
    "r = re.split(r'(,)', t)\n",
    "print(r)"
   ]
  },
  {
   "cell_type": "markdown",
   "metadata": {},
   "source": [
    "### Non-Matching Pattern: If the pattern does not match anywhere in the string, the result is a list containing the original string."
   ]
  },
  {
   "cell_type": "code",
   "execution_count": 21,
   "metadata": {},
   "outputs": [
    {
     "name": "stdout",
     "output_type": "stream",
     "text": [
      "['Akhil Konduri Sai Konduri']\n"
     ]
    }
   ],
   "source": [
    "import re\n",
    "\n",
    "t = 'Akhil Konduri Sai Konduri'\n",
    "r = re.split(r',', t)\n",
    "print(r)"
   ]
  },
  {
   "cell_type": "markdown",
   "metadata": {},
   "source": [
    "### The primary difference between Python's built-in `str.split()` method and the `re.split()` function from the `re` module lies in their flexibility and use cases:\n",
    "\n",
    "---\n",
    "\n",
    "### 🔹 `str.split()` – Simple and Fast\n",
    "\n",
    "- **Purpose**:Splits a string using a specified **fixed delimiter**\n",
    "- **Default Behavior**:If no delimiter is provided, it splits on **any whitespace** and treats consecutive whitespace as a single separator\n",
    "- **Limitations**:Cannot handle multiple delimiters or complex patterns\n",
    "- **Performance**:Faster than `re.split()` because it doesn't involve pattern matching\n",
    "\n",
    "**Example**:\n",
    "\n",
    "```pythontext = \"apple,banana,grape\"\n",
    "print(text.split(','))  # Output: ['apple', 'banana', 'grape'\n",
    "```\n",
    "\n",
    "\n",
    "---\n",
    "\n",
    "### 🔹 `re.split()` – Flexible and Powerful\n",
    "\n",
    "- **Purpose** Splits a string using a **regular expression pattern**, allowing for complex and multiple delimiter.\n",
    "- **Capabilities**:\n",
    "   Split on multiple different delimiter.\n",
    "   Use patterns to define delimiters (e.g., digits, non-word characters.\n",
    "   Apply flags for case-insensitive splitting or other behavior.\n",
    "- **Performance** Slightly slower due to the overhead of regular expression processin.\n",
    "\n",
    "**Example**:\n",
    "\n",
    "```pytho\n",
    "import re\n",
    "\n",
    "text = \"apple, banana; grape\"\n",
    "result = re.split(r\"[,;]\\s*\", text)\n",
    "print(result)  # Output: ['apple', 'banana', 'grape]\n",
    "```\n",
    "\n",
    "In this example, `re.split()` splits the string on commas or semicolons, optionally followed by whitespac.\n",
    "\n",
    "---\n",
    "\n",
    "### 🔍 Key Difference\n",
    "\n",
    "| Feature               | `str.split()`                         | `re.split()`                                     |\n",
    "|-----------------------|----------------------------------------|--------------------------------------------------|\n",
    "| Delimiter Type        | Fixed string                           | Regular expression pattern                       |\n",
    "| Multiple Delimiters   | Not supported                          | Supported via regex patterns                     |\n",
    "| Complex Patterns      | Not supported                          | Supported (e.g., splitting on digits, words)     |\n",
    "| Performance           | Faster                                 | Slightly slower due to regex processing          |\n",
    "| Use Case              | Simple, known delimiters               | Complex, variable, or multiple delimiters       |\n",
    "\n",
    "---\n",
    "\n",
    "### ✅ When to Use Which?\n",
    "\n",
    "- **Use `str.split()`*: When you have a simple, known delimiter and performance is a concen.\n",
    "- **Use `re.split()`*: When you need to split based on complex patterns, multiple delimiters, or require the power of regular expressios.\n",
    "\n",
    "---\n",
    "\n",
    "If you have a specific scenario or need further clarification, feel free to ask! "
   ]
  },
  {
   "cell_type": "code",
   "execution_count": 22,
   "metadata": {},
   "outputs": [
    {
     "name": "stdout",
     "output_type": "stream",
     "text": [
      "['Akhil1', 'Konduri', 'Sai1']\n",
      "['Akhil1 Konduri', ' Sai1']\n"
     ]
    }
   ],
   "source": [
    "import re\n",
    "\n",
    "t = 'Akhil1 Konduri, Sai1'\n",
    "r = re.split(r'[\\s,]\\s*', t) #Split with regular expressions\n",
    "print(r) \n",
    "print(t.split(',')) #Normal split"
   ]
  }
 ],
 "metadata": {
  "kernelspec": {
   "display_name": "Python 3",
   "language": "python",
   "name": "python3"
  },
  "language_info": {
   "codemirror_mode": {
    "name": "ipython",
    "version": 3
   },
   "file_extension": ".py",
   "mimetype": "text/x-python",
   "name": "python",
   "nbconvert_exporter": "python",
   "pygments_lexer": "ipython3",
   "version": "3.12.6"
  }
 },
 "nbformat": 4,
 "nbformat_minor": 2
}
