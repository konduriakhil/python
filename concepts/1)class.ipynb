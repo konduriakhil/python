{
 "cells": [
  {
   "cell_type": "markdown",
   "metadata": {},
   "source": [
    "# Class\n",
    "* We use classes to define new types\n",
    "* When a function is part of a class, we refer to it as a method. \n",
    "* Classes define templates or blueprints for creating objects. An object is an instance\n",
    "of a class. Every time we create a new instance, that instance follows the structure\n",
    "we define using the class \n",
    "* point1 = Point(10, 5)\n",
    "  point2 = Point(2, 4) \n",
    "  * The naming convention of variables and functions are lowercase letters and separte them using underscore\n",
    "    * def multiplication_of_two_numbers(), number = 2, name_of_person = 'Akhil'\n",
    "  * For Classes start with uppercase letter and separation is start with Uppercase letter\n",
    "    * class PointInGame"
   ]
  },
  {
   "cell_type": "code",
   "execution_count": null,
   "metadata": {},
   "outputs": [
    {
     "name": "stdout",
     "output_type": "stream",
     "text": [
      "Buddy\n",
      "Woof!\n",
      "Max\n",
      "Woof!\n"
     ]
    }
   ],
   "source": [
    "class Dog:  # The recipe (class) for making dog objects\n",
    "    def __init__(self, name, breed): #ingredients of the dog (init method is run when dog is created)\n",
    "        self.name = name\n",
    "        self.breed = breed\n",
    "\n",
    "    def bark(self): #step of the recipe (method)\n",
    "        print(\"Woof!\")\n",
    "\n",
    "my_dog = Dog(\"Buddy\", \"Golden Retriever\")  # Making a dog (object) using the recipe\n",
    "your_dog = Dog(\"Max\", \"Poodle\") # Making another dog (object)\n",
    "\n",
    "print(my_dog.name)  # Accessing the dog's name (an ingredient)\n",
    "my_dog.bark()  # Making the dog bark (using a step of the recipe)\n",
    "\n",
    "print(your_dog.name)\n",
    "your_dog.bark()"
   ]
  },
  {
   "cell_type": "code",
   "execution_count": null,
   "metadata": {},
   "outputs": [
    {
     "name": "stdout",
     "output_type": "stream",
     "text": [
      "teachers\n",
      "16\n",
      "students\n",
      "100\n",
      "teachers\n",
      "28\n",
      "students\n",
      "250\n"
     ]
    }
   ],
   "source": [
    "class School:\n",
    "    def teachers(self):\n",
    "        print('teachers')\n",
    "\n",
    "    def students(self):\n",
    "        print('students')\n",
    "\n",
    "\n",
    "school1 = School()\n",
    "school1.x = 16\n",
    "school1.y = 100\n",
    "school1.teachers()\n",
    "print(school1.x)\n",
    "school1.students()\n",
    "print(school1.y)\n",
    "\n",
    "\n",
    "school2 = School()\n",
    "school2.x = 28\n",
    "school2.y = 250\n",
    "school2.teachers()\n",
    "print(school2.x)\n",
    "school2.students()\n",
    "print(school2.y)"
   ]
  },
  {
   "cell_type": "markdown",
   "metadata": {},
   "source": [
    "## Constructors(__init__)\n",
    "   * For adding attribute \n",
    "   * _init__ is a special method called constructor. It gets called at the time of\n",
    "creating new objects. We use it to initialize our objects\n"
   ]
  },
  {
   "cell_type": "code",
   "execution_count": 5,
   "metadata": {},
   "outputs": [
    {
     "name": "stdout",
     "output_type": "stream",
     "text": [
      "12\n",
      "draw\n"
     ]
    }
   ],
   "source": [
    "class Point:\n",
    "    def __init__(self, x, y):\n",
    "        self.x = x\n",
    "        self.y = y\n",
    "    def draw(self):\n",
    "        print('draw')\n",
    "    def move(self):\n",
    "        print('move')\n",
    "\n",
    "\n",
    "point = Point(12, 56)\n",
    "print(point.x)\n",
    "point.draw()"
   ]
  },
  {
   "cell_type": "markdown",
   "metadata": {},
   "source": [
    "## Updating coordinates or attributes"
   ]
  },
  {
   "cell_type": "code",
   "execution_count": 6,
   "metadata": {},
   "outputs": [
    {
     "name": "stdout",
     "output_type": "stream",
     "text": [
      "34\n",
      "draw\n"
     ]
    }
   ],
   "source": [
    "class Point:\n",
    "    def __init__(self, x, y):\n",
    "        self.x = x\n",
    "        self.y = y\n",
    "    def draw(self):\n",
    "        print('draw')\n",
    "    def move(self):\n",
    "        print('move')\n",
    "\n",
    "\n",
    "point = Point(12, 56)\n",
    "point.x = 34\n",
    "print(point.x)\n",
    "point.draw()"
   ]
  },
  {
   "cell_type": "markdown",
   "metadata": {},
   "source": [
    "## Exercise\n",
    "* Person \n",
    "    - name \n",
    "    - talk()"
   ]
  },
  {
   "cell_type": "code",
   "execution_count": 7,
   "metadata": {},
   "outputs": [
    {
     "name": "stdout",
     "output_type": "stream",
     "text": [
      "Konduri Akhil\n",
      "My name is Konduri Akhil\n"
     ]
    }
   ],
   "source": [
    "class Person:\n",
    "    def __init__(self, name):\n",
    "        self.name = name\n",
    "\n",
    "    def talk(self):\n",
    "        print(f'My name is {self.name}')\n",
    "\n",
    "\n",
    "person = Person('Konduri Akhil')\n",
    "print(person.name)\n",
    "person.talk()"
   ]
  },
  {
   "cell_type": "markdown",
   "metadata": {},
   "source": [
    "# Inheritence\n",
    "  * In programming we have principle called \"Dry\" - \"Don't Repeat Yourself\" \n",
    "  * The body of the class should not be empty\n",
    "    * So that we use `pass` command to ignore the empty stuff.\n",
    "  * A class can have both inherent class methods and its own methods.\n",
    "  * Inheritance is a technique to remove code duplication. We can create a base class\n",
    "to define the common methods and then have other classes inherit these methods. \n"
   ]
  },
  {
   "cell_type": "code",
   "execution_count": null,
   "metadata": {},
   "outputs": [
    {
     "name": "stdout",
     "output_type": "stream",
     "text": [
      "Gives milk\n",
      "Gives milk\n",
      "bow...\n",
      "Gives milk\n",
      "meaow....\n"
     ]
    }
   ],
   "source": [
    "class Mammels:\n",
    "    def productivity(self):\n",
    "        print('Gives milk')\n",
    "\n",
    "\n",
    "class Buffelo(Mammels):\n",
    "    pass\n",
    "\n",
    "\n",
    "class Cat(Mammels):\n",
    "    def talk(self):\n",
    "        print('meaow....')\n",
    "\n",
    "\n",
    "class Dog(Mammels):\n",
    "    def talk(self):\n",
    "        print('bow...')\n",
    "\n",
    "buffelo = Buffelo()\n",
    "dog = Dog()\n",
    "cat = Cat()\n",
    "\n",
    "buffelo.productivity()\n",
    "\n",
    "dog.productivity()\n",
    "dog.talk()\n",
    "\n",
    "cat.productivity()\n",
    "cat.talk()\n"
   ]
  },
  {
   "cell_type": "markdown",
   "metadata": {},
   "source": [
    "# Practice (25/03/2025)"
   ]
  },
  {
   "cell_type": "code",
   "execution_count": 1,
   "metadata": {},
   "outputs": [
    {
     "name": "stdout",
     "output_type": "stream",
     "text": [
      "Maxi Pumerian\n",
      "Woof....\n",
      "Jinping Desi\n",
      "Woof....\n",
      "Hitler BullDog\n",
      "Woof....\n",
      "             \n",
      "Human friendly\n",
      "Gives amusements to Humans \n",
      "Helps to Humans                            \n",
      "\n",
      "Tiger Bengal\n",
      "Meaow...\n"
     ]
    }
   ],
   "source": [
    "class Pets:\n",
    "    def __init__(self, name, breed):\n",
    "        self.name = name\n",
    "        self.breed = breed\n",
    "\n",
    "    def dog(self):\n",
    "        print('Woof....')\n",
    "\n",
    "    def cat(self):\n",
    "        print('Meaow...')\n",
    "\n",
    "\n",
    "class DomesticAnimals(Pets):\n",
    "    def attributes(self):\n",
    "        print('''             \n",
    "Human friendly\n",
    "Gives amusements to Humans \n",
    "Helps to Humans                            \n",
    "''')\n",
    "\n",
    "\n",
    "\n",
    "\n",
    "dog1 = Pets('Maxi', 'Pumerian')\n",
    "dog2 = Pets('Jenduping', 'Desi')\n",
    "dog3 = DomesticAnimals('Hitler', 'BullDog')\n",
    "cat = Pets('Tiger', 'Bengal')\n",
    "\n",
    "\n",
    "print(dog1.name, dog1.breed)\n",
    "dog1.dog()\n",
    "\n",
    "dog2.name = 'Jinping'\n",
    "print(dog2.name, dog2.breed)\n",
    "dog2.dog()\n",
    "\n",
    "print(dog3.name, dog3.breed)\n",
    "dog3.dog()\n",
    "dog3.attributes()\n",
    "\n",
    "print(cat.name, cat.breed)\n",
    "cat.cat()"
   ]
  }
 ],
 "metadata": {
  "kernelspec": {
   "display_name": "Python 3",
   "language": "python",
   "name": "python3"
  },
  "language_info": {
   "codemirror_mode": {
    "name": "ipython",
    "version": 3
   },
   "file_extension": ".py",
   "mimetype": "text/x-python",
   "name": "python",
   "nbconvert_exporter": "python",
   "pygments_lexer": "ipython3",
   "version": "3.12.6"
  }
 },
 "nbformat": 4,
 "nbformat_minor": 2
}
