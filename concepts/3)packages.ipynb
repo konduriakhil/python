{
 "cells": [
  {
   "cell_type": "markdown",
   "metadata": {},
   "source": [
    "# Packages\n",
    "* A package is a container of multiple modules\n",
    "* It is like folder containing multiple files\n",
    "  * Create `__init__.py` file in the folder you created\n",
    "    * If a directory have `__init__.py` python understands that it is a package."
   ]
  },
  {
   "cell_type": "code",
   "execution_count": null,
   "metadata": {
    "vscode": {
     "languageId": "plaintext"
    }
   },
   "outputs": [],
   "source": []
  }
 ],
 "metadata": {
  "language_info": {
   "name": "python"
  }
 },
 "nbformat": 4,
 "nbformat_minor": 2
}
