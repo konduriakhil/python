{
 "cells": [
  {
   "cell_type": "markdown",
   "metadata": {},
   "source": [
    "# Packages\n",
    "* A package is a directory with `__init__`.py in it. It can contain one or more\n",
    "modules.\n",
    "* A package is a container of multiple modules\n",
    "* It is like folder containing multiple files\n",
    "  * Create `__init__.py` file in the folder you created\n",
    "    * If a directory have `__init__.py` python understands that it is a package."
   ]
  },
  {
   "cell_type": "markdown",
   "metadata": {},
   "source": [
    "## Importing entire fucntion"
   ]
  },
  {
   "cell_type": "code",
   "execution_count": 1,
   "metadata": {},
   "outputs": [
    {
     "name": "stdout",
     "output_type": "stream",
     "text": [
      "It is the cost calculation function\n",
      "It is the distance calclation function\n"
     ]
    }
   ],
   "source": [
    "import ecommerce.shipping\n",
    "\n",
    "print(ecommerce.shipping.cost())\n",
    "print(ecommerce.shipping.distance())\n"
   ]
  },
  {
   "cell_type": "markdown",
   "metadata": {},
   "source": [
    "## Calling one module"
   ]
  },
  {
   "cell_type": "code",
   "execution_count": 7,
   "metadata": {},
   "outputs": [
    {
     "name": "stdout",
     "output_type": "stream",
     "text": [
      "It is the distance calclation function\n"
     ]
    }
   ],
   "source": [
    "from ecommerce import shipping\n",
    "\n",
    "shipping.cost()\n",
    "shipping.distance()\n",
    "\n"
   ]
  },
  {
   "cell_type": "markdown",
   "metadata": {},
   "source": [
    "## Calling specific function "
   ]
  },
  {
   "cell_type": "code",
   "execution_count": 8,
   "metadata": {},
   "outputs": [
    {
     "name": "stdout",
     "output_type": "stream",
     "text": [
      "It is the distance calclation function\n"
     ]
    }
   ],
   "source": [
    "from ecommerce.shipping import cost, distance\n",
    "\n",
    "cost()\n",
    "\n",
    "distance()"
   ]
  },
  {
   "cell_type": "markdown",
   "metadata": {},
   "source": []
  }
 ],
 "metadata": {
  "kernelspec": {
   "display_name": "Python 3",
   "language": "python",
   "name": "python3"
  },
  "language_info": {
   "codemirror_mode": {
    "name": "ipython",
    "version": 3
   },
   "file_extension": ".py",
   "mimetype": "text/x-python",
   "name": "python",
   "nbconvert_exporter": "python",
   "pygments_lexer": "ipython3",
   "version": "3.12.6"
  }
 },
 "nbformat": 4,
 "nbformat_minor": 2
}
