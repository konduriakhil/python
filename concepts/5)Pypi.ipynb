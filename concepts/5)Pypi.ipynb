{
 "cells": [
  {
   "cell_type": "markdown",
   "metadata": {},
   "source": [
    "# Pypi\n",
    "* Python Package Index (pypi.org) is a directory of Python packages published by\n",
    "Python developers around the world. We use pip to install or uninstall these\n",
    "packages. \n",
    "* `Pip` stands for \"Pip Installs Packages.\" It is the default package manager for Python. Pip allows you to install, update, and manage Python packages (libraries) from the Python Package Index (PyPI).\n",
    "* To install packages enter the below command in terminal  `pip install openpyxl`\n"
   ]
  },
  {
   "cell_type": "code",
   "execution_count": null,
   "metadata": {},
   "outputs": [],
   "source": [
    "pip install openpyxl"
   ]
  }
 ],
 "metadata": {
  "kernelspec": {
   "display_name": "Python 3",
   "language": "python",
   "name": "python3"
  },
  "language_info": {
   "codemirror_mode": {
    "name": "ipython",
    "version": 3
   },
   "file_extension": ".py",
   "mimetype": "text/x-python",
   "name": "python",
   "nbconvert_exporter": "python",
   "pygments_lexer": "ipython3",
   "version": "3.12.6"
  }
 },
 "nbformat": 4,
 "nbformat_minor": 2
}
